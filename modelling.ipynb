{
 "cells": [
  {
   "cell_type": "markdown",
   "id": "20b97958",
   "metadata": {},
   "source": [
    "### Modeling Objectives\n",
    "\n",
    "- Train and evaluate classification models to predict satisfaction.\n",
    "- Use SHAP or LIME to explain key satisfaction drivers.\n",
    "- Monitor performance using recall, F1 and AUC scores."
   ]
  },
  {
   "cell_type": "code",
   "execution_count": 1,
   "id": "2e74c4f9",
   "metadata": {},
   "outputs": [
    {
     "name": "stderr",
     "output_type": "stream",
     "text": [
      "c:\\Users\\User\\anaconda3\\envs\\learn-env\\lib\\site-packages\\numpy\\_distributor_init.py:30: UserWarning: loaded more than 1 DLL from .libs:\n",
      "c:\\Users\\User\\anaconda3\\envs\\learn-env\\lib\\site-packages\\numpy\\.libs\\libopenblas.PYQHXLVVQ7VESDPUVUADXEVJOBGHJPAY.gfortran-win_amd64.dll\n",
      "c:\\Users\\User\\anaconda3\\envs\\learn-env\\lib\\site-packages\\numpy\\.libs\\libopenblas64__v0.3.21-gcc_10_3_0.dll\n",
      "  warnings.warn(\"loaded more than 1 DLL from .libs:\"\n"
     ]
    }
   ],
   "source": [
    "# Import libraries\n",
    "\n",
    "import pandas as pd\n",
    "import numpy as np\n",
    "from sklearn.model_selection import train_test_split, cross_val_score\n",
    "from sklearn.ensemble import RandomForestClassifier, GradientBoostingClassifier\n",
    "from sklearn.linear_model import LogisticRegression\n",
    "from sklearn.metrics import classification_report, confusion_matrix, roc_auc_score, f1_score, recall_score\n",
    "from sklearn.preprocessing import StandardScaler, LabelEncoder\n",
    "import matplotlib.pyplot as plt\n",
    "import seaborn as sns\n",
    "\n",
    "import warnings\n",
    "warnings.filterwarnings(\"ignore\")\n",
    "\n",
    "# Import explainability libraries \n",
    "import shap\n",
    "import yellowbrick"
   ]
  },
  {
   "cell_type": "code",
   "execution_count": 2,
   "id": "2e525f1b",
   "metadata": {},
   "outputs": [
    {
     "data": {
      "application/vnd.microsoft.datawrangler.viewer.v0+json": {
       "columns": [
        {
         "name": "index",
         "rawType": "int64",
         "type": "integer"
        },
        {
         "name": "Agency Name",
         "rawType": "object",
         "type": "string"
        },
        {
         "name": "Complaint Type",
         "rawType": "object",
         "type": "string"
        },
        {
         "name": "Descriptor",
         "rawType": "object",
         "type": "string"
        },
        {
         "name": "Borough",
         "rawType": "object",
         "type": "string"
        },
        {
         "name": "Resolution Description",
         "rawType": "object",
         "type": "string"
        },
        {
         "name": "Survey Year",
         "rawType": "int64",
         "type": "integer"
        },
        {
         "name": "Survey Month",
         "rawType": "int64",
         "type": "integer"
        },
        {
         "name": "Satisfaction Response",
         "rawType": "object",
         "type": "string"
        },
        {
         "name": "Dissatisfaction Reason",
         "rawType": "object",
         "type": "string"
        },
        {
         "name": "Justified Dissatisfaction",
         "rawType": "object",
         "type": "string"
        },
        {
         "name": "Cluster",
         "rawType": "int64",
         "type": "integer"
        },
        {
         "name": "Combined_Feedback",
         "rawType": "object",
         "type": "string"
        },
        {
         "name": "Sentiment Score",
         "rawType": "float64",
         "type": "float"
        },
        {
         "name": "Sentiment Label",
         "rawType": "object",
         "type": "string"
        }
       ],
       "ref": "6c42c5d5-7985-492c-b5f9-926f3cf2baae",
       "rows": [
        [
         "0",
         "Department of Buildings",
         "Adult Establishment",
         "Zoning Violation",
         "MANHATTAN",
         "The Department of Buildings investigated this complaint and determined that no further action was necessary.",
         "2022",
         "10",
         "Strongly Agree",
         "Not Applicable",
         "Delays in inspections or provision of construction materials.",
         "0",
         "Delays in inspections or provision of construction materials.Not Applicable",
         "0.0",
         "neutral"
        ],
        [
         "1",
         "Department of Buildings",
         "Adult Establishment",
         "Zoning Violation",
         "BROOKLYN",
         "The Department of Buildings investigated this complaint and determined that no further action was necessary.",
         "2024",
         "11",
         "Strongly Disagree",
         "The Agency did not correct the issue.",
         "Delays in inspections or provision of construction materials.",
         "1",
         "Delays in inspections or provision of construction materials.The Agency did not correct the issue.",
         "0.0",
         "neutral"
        ],
        [
         "2",
         "Department for the Aging",
         "Legal Services Provider Complaint",
         "Not Provided",
         "MANHATTAN",
         "The Department for the Aging contacted you and provided the assistance requested. No further updates will be available through 311. If further assistance is needed, please open a new Service Request.",
         "2024",
         "3",
         "Strongly Agree",
         "Not Applicable",
         "Lack of timely support or services for senior citizens.",
         "0",
         "Lack of timely support or services for senior citizens.Not Applicable",
         "0.1027",
         "positive"
        ],
        [
         "3",
         "Department of Buildings",
         "Advertising Sign",
         "Poster",
         "MANHATTAN",
         "The Department of Buildings reviewed this complaint and referred it to the Department of Sanitation for further action.",
         "2024",
         "2",
         "Neutral",
         "Not Applicable",
         "Delays in inspections or provision of construction materials.",
         "0",
         "Delays in inspections or provision of construction materials.Not Applicable",
         "0.0",
         "neutral"
        ],
        [
         "4",
         "Department of Buildings",
         "Advertising Sign",
         "Billboard",
         "MANHATTAN",
         "The Department of Buildings investigated this complaint and determined that no further action was necessary.",
         "2023",
         "10",
         "Strongly Disagree",
         "Status updates were unhelpful, inaccurate, incomplete, and/or confusing.",
         "Delays in inspections or provision of construction materials.",
         "3",
         "Delays in inspections or provision of construction materials.Status updates were unhelpful, inaccurate, incomplete, and/or confusing.",
         "0.0",
         "neutral"
        ]
       ],
       "shape": {
        "columns": 14,
        "rows": 5
       }
      },
      "text/html": [
       "<div>\n",
       "<style scoped>\n",
       "    .dataframe tbody tr th:only-of-type {\n",
       "        vertical-align: middle;\n",
       "    }\n",
       "\n",
       "    .dataframe tbody tr th {\n",
       "        vertical-align: top;\n",
       "    }\n",
       "\n",
       "    .dataframe thead th {\n",
       "        text-align: right;\n",
       "    }\n",
       "</style>\n",
       "<table border=\"1\" class=\"dataframe\">\n",
       "  <thead>\n",
       "    <tr style=\"text-align: right;\">\n",
       "      <th></th>\n",
       "      <th>Agency Name</th>\n",
       "      <th>Complaint Type</th>\n",
       "      <th>Descriptor</th>\n",
       "      <th>Borough</th>\n",
       "      <th>Resolution Description</th>\n",
       "      <th>Survey Year</th>\n",
       "      <th>Survey Month</th>\n",
       "      <th>Satisfaction Response</th>\n",
       "      <th>Dissatisfaction Reason</th>\n",
       "      <th>Justified Dissatisfaction</th>\n",
       "      <th>Cluster</th>\n",
       "      <th>Combined_Feedback</th>\n",
       "      <th>Sentiment Score</th>\n",
       "      <th>Sentiment Label</th>\n",
       "    </tr>\n",
       "  </thead>\n",
       "  <tbody>\n",
       "    <tr>\n",
       "      <th>0</th>\n",
       "      <td>Department of Buildings</td>\n",
       "      <td>Adult Establishment</td>\n",
       "      <td>Zoning Violation</td>\n",
       "      <td>MANHATTAN</td>\n",
       "      <td>The Department of Buildings investigated this ...</td>\n",
       "      <td>2022</td>\n",
       "      <td>10</td>\n",
       "      <td>Strongly Agree</td>\n",
       "      <td>Not Applicable</td>\n",
       "      <td>Delays in inspections or provision of construc...</td>\n",
       "      <td>0</td>\n",
       "      <td>Delays in inspections or provision of construc...</td>\n",
       "      <td>0.0000</td>\n",
       "      <td>neutral</td>\n",
       "    </tr>\n",
       "    <tr>\n",
       "      <th>1</th>\n",
       "      <td>Department of Buildings</td>\n",
       "      <td>Adult Establishment</td>\n",
       "      <td>Zoning Violation</td>\n",
       "      <td>BROOKLYN</td>\n",
       "      <td>The Department of Buildings investigated this ...</td>\n",
       "      <td>2024</td>\n",
       "      <td>11</td>\n",
       "      <td>Strongly Disagree</td>\n",
       "      <td>The Agency did not correct the issue.</td>\n",
       "      <td>Delays in inspections or provision of construc...</td>\n",
       "      <td>1</td>\n",
       "      <td>Delays in inspections or provision of construc...</td>\n",
       "      <td>0.0000</td>\n",
       "      <td>neutral</td>\n",
       "    </tr>\n",
       "    <tr>\n",
       "      <th>2</th>\n",
       "      <td>Department for the Aging</td>\n",
       "      <td>Legal Services Provider Complaint</td>\n",
       "      <td>Not Provided</td>\n",
       "      <td>MANHATTAN</td>\n",
       "      <td>The Department for the Aging contacted you and...</td>\n",
       "      <td>2024</td>\n",
       "      <td>3</td>\n",
       "      <td>Strongly Agree</td>\n",
       "      <td>Not Applicable</td>\n",
       "      <td>Lack of timely support or services for senior ...</td>\n",
       "      <td>0</td>\n",
       "      <td>Lack of timely support or services for senior ...</td>\n",
       "      <td>0.1027</td>\n",
       "      <td>positive</td>\n",
       "    </tr>\n",
       "    <tr>\n",
       "      <th>3</th>\n",
       "      <td>Department of Buildings</td>\n",
       "      <td>Advertising Sign</td>\n",
       "      <td>Poster</td>\n",
       "      <td>MANHATTAN</td>\n",
       "      <td>The Department of Buildings reviewed this comp...</td>\n",
       "      <td>2024</td>\n",
       "      <td>2</td>\n",
       "      <td>Neutral</td>\n",
       "      <td>Not Applicable</td>\n",
       "      <td>Delays in inspections or provision of construc...</td>\n",
       "      <td>0</td>\n",
       "      <td>Delays in inspections or provision of construc...</td>\n",
       "      <td>0.0000</td>\n",
       "      <td>neutral</td>\n",
       "    </tr>\n",
       "    <tr>\n",
       "      <th>4</th>\n",
       "      <td>Department of Buildings</td>\n",
       "      <td>Advertising Sign</td>\n",
       "      <td>Billboard</td>\n",
       "      <td>MANHATTAN</td>\n",
       "      <td>The Department of Buildings investigated this ...</td>\n",
       "      <td>2023</td>\n",
       "      <td>10</td>\n",
       "      <td>Strongly Disagree</td>\n",
       "      <td>Status updates were unhelpful, inaccurate, inc...</td>\n",
       "      <td>Delays in inspections or provision of construc...</td>\n",
       "      <td>3</td>\n",
       "      <td>Delays in inspections or provision of construc...</td>\n",
       "      <td>0.0000</td>\n",
       "      <td>neutral</td>\n",
       "    </tr>\n",
       "  </tbody>\n",
       "</table>\n",
       "</div>"
      ],
      "text/plain": [
       "                Agency Name                     Complaint Type  \\\n",
       "0   Department of Buildings                Adult Establishment   \n",
       "1   Department of Buildings                Adult Establishment   \n",
       "2  Department for the Aging  Legal Services Provider Complaint   \n",
       "3   Department of Buildings                   Advertising Sign   \n",
       "4   Department of Buildings                   Advertising Sign   \n",
       "\n",
       "         Descriptor    Borough  \\\n",
       "0  Zoning Violation  MANHATTAN   \n",
       "1  Zoning Violation   BROOKLYN   \n",
       "2      Not Provided  MANHATTAN   \n",
       "3            Poster  MANHATTAN   \n",
       "4         Billboard  MANHATTAN   \n",
       "\n",
       "                              Resolution Description  Survey Year  \\\n",
       "0  The Department of Buildings investigated this ...         2022   \n",
       "1  The Department of Buildings investigated this ...         2024   \n",
       "2  The Department for the Aging contacted you and...         2024   \n",
       "3  The Department of Buildings reviewed this comp...         2024   \n",
       "4  The Department of Buildings investigated this ...         2023   \n",
       "\n",
       "   Survey Month Satisfaction Response  \\\n",
       "0            10        Strongly Agree   \n",
       "1            11     Strongly Disagree   \n",
       "2             3        Strongly Agree   \n",
       "3             2               Neutral   \n",
       "4            10     Strongly Disagree   \n",
       "\n",
       "                              Dissatisfaction Reason  \\\n",
       "0                                     Not Applicable   \n",
       "1              The Agency did not correct the issue.   \n",
       "2                                     Not Applicable   \n",
       "3                                     Not Applicable   \n",
       "4  Status updates were unhelpful, inaccurate, inc...   \n",
       "\n",
       "                           Justified Dissatisfaction  Cluster  \\\n",
       "0  Delays in inspections or provision of construc...        0   \n",
       "1  Delays in inspections or provision of construc...        1   \n",
       "2  Lack of timely support or services for senior ...        0   \n",
       "3  Delays in inspections or provision of construc...        0   \n",
       "4  Delays in inspections or provision of construc...        3   \n",
       "\n",
       "                                   Combined_Feedback  Sentiment Score  \\\n",
       "0  Delays in inspections or provision of construc...           0.0000   \n",
       "1  Delays in inspections or provision of construc...           0.0000   \n",
       "2  Lack of timely support or services for senior ...           0.1027   \n",
       "3  Delays in inspections or provision of construc...           0.0000   \n",
       "4  Delays in inspections or provision of construc...           0.0000   \n",
       "\n",
       "  Sentiment Label  \n",
       "0         neutral  \n",
       "1         neutral  \n",
       "2        positive  \n",
       "3         neutral  \n",
       "4         neutral  "
      ]
     },
     "execution_count": 2,
     "metadata": {},
     "output_type": "execute_result"
    }
   ],
   "source": [
    "# Load and prepare data\n",
    "df = pd.read_csv('eda_incl.csv')  \n",
    "df.head()"
   ]
  },
  {
   "cell_type": "code",
   "execution_count": 3,
   "id": "0d7197d6",
   "metadata": {},
   "outputs": [],
   "source": [
    "# Importing the pipeline class\n",
    "from satisfaction_pipeline import SatisfactionPipeline"
   ]
  },
  {
   "cell_type": "code",
   "execution_count": 4,
   "id": "e0d93c8c",
   "metadata": {},
   "outputs": [
    {
     "name": "stdout",
     "output_type": "stream",
     "text": [
      "Recall: 0.983\n",
      "F1 Score: 0.926\n",
      "AUC Score: 0.971\n",
      "\n",
      "Top 5 Important Features:\n",
      "Cluster            0.907347\n",
      "Complaint Type     0.035440\n",
      "Survey Month       0.017973\n",
      "Sentiment Score    0.015016\n",
      "Borough            0.009906\n",
      "dtype: float64\n"
     ]
    },
    {
     "data": {
      "text/plain": [
       "<satisfaction_pipeline.SatisfactionPipeline at 0x21165c21910>"
      ]
     },
     "execution_count": 4,
     "metadata": {},
     "output_type": "execute_result"
    }
   ],
   "source": [
    "# Initialize and train pipeline\n",
    "satisfaction_model = SatisfactionPipeline()\n",
    "# Fit the model\n",
    "satisfaction_model.fit(df)"
   ]
  },
  {
   "cell_type": "code",
   "execution_count": null,
   "id": "e33de157",
   "metadata": {},
   "outputs": [],
   "source": [
    "# Make predictions\n",
    "data = df\n",
    "predictions = satisfaction_model.predict(data)\n",
    "probabilities = satisfaction_model.predict_proba(data)"
   ]
  },
  {
   "cell_type": "code",
   "execution_count": 6,
   "id": "3eab7a53",
   "metadata": {},
   "outputs": [
    {
     "name": "stdout",
     "output_type": "stream",
     "text": [
      "\n",
      "Predictions: [1 0 1 ... 0 1 0]\n",
      "Satisfaction Probabilities: [0.85833333 0.         0.93940476 ... 0.38114286 0.9065613  0.        ]\n"
     ]
    }
   ],
   "source": [
    "print(f\"\\nPredictions: {predictions}\")\n",
    "print(f\"Satisfaction Probabilities: {probabilities[:, 1]}\")"
   ]
  },
  {
   "cell_type": "code",
   "execution_count": 16,
   "id": "f224dc23",
   "metadata": {},
   "outputs": [],
   "source": [
    "# Create target\n",
    "df['Satisfied'] = df['Satisfaction Response'].apply(\n",
    "    lambda x: 1 if x in ['Strongly Agree', 'Agree'] else 0\n",
    ")\n",
    "\n",
    "# Select features\n",
    "features = ['Agency Name', 'Complaint Type', 'Borough', 'Survey Year', 'Survey Month', 'Cluster', 'Sentiment Score']\n",
    "X = df[features].copy()\n",
    "y = df['Satisfied']\n",
    "\n",
    "# Encode categorical variables\n",
    "from sklearn.preprocessing import LabelEncoder\n",
    "le_dict = {}\n",
    "for col in X.select_dtypes(include=['object']).columns:\n",
    "    le = LabelEncoder()\n",
    "    X[col] = le.fit_transform(X[col].astype(str))\n",
    "    le_dict[col] = le\n",
    "\n",
    "# Split data\n",
    "X_train, X_test, y_train, y_test = train_test_split(X, y, test_size=0.2, random_state=42, stratify=y)"
   ]
  },
  {
   "cell_type": "code",
   "execution_count": null,
   "id": "efadf90c",
   "metadata": {},
   "outputs": [
    {
     "name": "stdout",
     "output_type": "stream",
     "text": [
      "XGBoost F1: 0.932\n",
      "Recall: 0.999\n",
      "AUC Score: 0.963\n"
     ]
    }
   ],
   "source": [
    "from sklearn.model_selection import GridSearchCV\n",
    "import xgboost as xgb\n",
    "\n",
    "# Quick XGBoost comparison\n",
    "xgb_model = xgb.XGBClassifier(random_state=42)\n",
    "xgb_model.fit(X_train, y_train)\n",
    "xgb_pred = xgb_model.predict(X_test)\n",
    "print(f\"XGBoost F1: {f1_score(y_test, xgb_pred):.3f}\")\n",
    "print(f\"XGBoost Recall: {recall_score(y_test, xgb_pred):.3f}\")\n",
    "print(f\"XGBoost AUC Score: {roc_auc_score(y_test, xgb_pred):.3f}\")"
   ]
  },
  {
   "cell_type": "markdown",
   "id": "e18e0f34",
   "metadata": {},
   "source": [
    "The comparison between Random Forest and XGBoost models reveals marginal performance differences, with XGBoost achieving slightly higher F1 score (0.932 vs 0.926) and recall (0.999 vs 0.983), while Random Forest maintains a better AUC score (0.971 vs 0.963). Despite XGBoost's marginal improvements, the Random Forest model remains the recommended choice due to its superior interpretability, stability, and lower risk of overfitting, particularly given that XGBoost's near-perfect 99.9% recall may indicate potential overfitting to the training data. Both models demonstrate exceptional performance for satisfaction prediction, but Random Forest offers the optimal balance of accuracy, reliability and business interpretability for production deployment.\n",
    "\n",
    "### Comparison of Random Forest and XGBoost\n",
    "\n",
    "| **Metric** | **Random Forest** | **XGBoost** | **Difference** |\n",
    "| ---------- | ----------------- | ----------- | -------------- |\n",
    "| F1 Score   | 0.926             | 0.932       | +0.6%          |\n",
    "| Recall     | 0.983             | 0.999       | +1.6%          |\n",
    "| AUC Score  | 0.971             | 0.963       | -0.8%          |"
   ]
  },
  {
   "cell_type": "code",
   "execution_count": 22,
   "id": "848fbd0f",
   "metadata": {},
   "outputs": [
    {
     "name": "stdout",
     "output_type": "stream",
     "text": [
      "Model saved to satisfaction_model.pkl\n"
     ]
    }
   ],
   "source": [
    "# Save model\n",
    "satisfaction_model.save_model('satisfaction_model.pkl')"
   ]
  }
 ],
 "metadata": {
  "kernelspec": {
   "display_name": "learn-env",
   "language": "python",
   "name": "python3"
  },
  "language_info": {
   "codemirror_mode": {
    "name": "ipython",
    "version": 3
   },
   "file_extension": ".py",
   "mimetype": "text/x-python",
   "name": "python",
   "nbconvert_exporter": "python",
   "pygments_lexer": "ipython3",
   "version": "3.8.5"
  }
 },
 "nbformat": 4,
 "nbformat_minor": 5
}
