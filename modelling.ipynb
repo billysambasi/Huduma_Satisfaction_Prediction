{
 "cells": [
  {
   "cell_type": "markdown",
   "id": "20b97958",
   "metadata": {},
   "source": [
    "### Modeling Objectives\n",
    "- Train and evaluate classification models to predict satisfaction.\n",
    "- Use SHAP or LIME to explain key satisfaction drivers.\n",
    "- Monitor performance using recall, F1, and AUC scores.\n"
   ]
  },
  {
   "cell_type": "code",
   "execution_count": null,
   "id": "2e74c4f9",
   "metadata": {},
   "outputs": [
    {
     "ename": "",
     "evalue": "",
     "output_type": "error",
     "traceback": [
      "\u001b[1;31mFailed to start the Kernel. \n",
      "\u001b[1;31mzmq.error.ZMQError: Address in use. \n",
      "\u001b[1;31mView Jupyter <a href='command:jupyter.viewOutput'>log</a> for further details."
     ]
    }
   ],
   "source": [
    "# Import libraries\n",
    "# Import libraries\n",
    "import pandas as pd\n",
    "import numpy as np\n",
    "from sklearn.model_selection import train_test_split, cross_val_score\n",
    "from sklearn.ensemble import RandomForestClassifier, GradientBoostingClassifier\n",
    "from sklearn.linear_model import LogisticRegression\n",
    "from sklearn.metrics import classification_report, confusion_matrix, roc_auc_score, f1_score, recall_score\n",
    "from sklearn.preprocessing import StandardScaler, LabelEncoder\n",
    "import matplotlib.pyplot as plt\n",
    "import seaborn as sns\n",
    "\n",
    "# Import explainability libraries \n",
    "import shap\n",
    "import lime\n",
    "from lime.lime_tabular import LimeTabularExplainer \n"
   ]
  },
  {
   "cell_type": "code",
   "execution_count": null,
   "id": "d28e6010",
   "metadata": {},
   "outputs": [],
   "source": [
    "df1 = pd.read_csv(\"cleaned.csv\")\n",
    "df1.head()"
   ]
  },
  {
   "cell_type": "code",
   "execution_count": null,
   "id": "2e525f1b",
   "metadata": {},
   "outputs": [],
   "source": [
    "# Load and prepare data\n",
    "df2 = pd.read_csv('eda_incl.csv')  \n",
    "df2.head()"
   ]
  },
  {
   "cell_type": "code",
   "execution_count": null,
   "id": "fe0ab252",
   "metadata": {},
   "outputs": [],
   "source": [
    "# Check for duplicate columns\n",
    "df1_cols = set(df1.columns)\n",
    "df2_cols = set(df2.columns)\n",
    "common_cols = df1_cols.intersection(df2_cols)\n",
    "print(f\"Common columns: {common_cols}\")\n"
   ]
  },
  {
   "cell_type": "code",
   "execution_count": null,
   "id": "32b5a937",
   "metadata": {},
   "outputs": [],
   "source": [
    "# Combine df1 and df2 \n",
    "# Get unique columns from df2 that aren't in df1\n",
    "df2_unique_cols = [col for col in df2.columns if col not in df1.columns]\n",
    "\n",
    "# Merge on all common columns\n",
    "common_cols = list(set(df1.columns).intersection(set(df2.columns)))\n",
    "merged_df = pd.merge(df1, df2[common_cols + df2_unique_cols], on=common_cols, how='outer')\n",
    "\n",
    "merged_df.head()"
   ]
  },
  {
   "cell_type": "code",
   "execution_count": null,
   "id": "f5635195",
   "metadata": {},
   "outputs": [],
   "source": [
    "merged_df.shape"
   ]
  },
  {
   "cell_type": "code",
   "execution_count": null,
   "id": "daf38e91",
   "metadata": {},
   "outputs": [],
   "source": [
    "# Step 1: Load and prepare data\n",
    "\n",
    "# Step 2: Create target variable (binary classification)\n",
    "merged_df['Satisfied'] = merged_df['Satisfaction Response'].apply(\n",
    "    lambda x: 1 if x in ['Strongly Agree', 'Agree'] else 0\n",
    ")\n",
    "\n",
    "# Step 3: Select features (exclude target and ID columns)\n",
    "features = ['Agency Name', 'Complaint Type', 'Descriptor', 'Borough', \n",
    "           'Survey Year', 'Survey Month']\n",
    "X = merged_df[features].copy()\n",
    "y = merged_df['Satisfied']\n",
    "\n",
    "# Step 4: Encode categorical variables\n",
    "from sklearn.preprocessing import LabelEncoder\n",
    "le_dict = {}\n",
    "for col in X.select_dtypes(include=['object']).columns:\n",
    "    le = LabelEncoder()\n",
    "    X[col] = le.fit_transform(X[col].astype(str))\n",
    "    le_dict[col] = le\n",
    "\n",
    "# Handle missing values\n",
    "X = X.fillna(X.mode().iloc[0])  # Fill with most frequent value\n",
    "# Or drop rows with missing values: X = X.dropna()\n",
    "\n",
    "# Check for remaining NaN values\n",
    "print(\"Missing values:\", X.isnull().sum().sum())\n",
    "\n",
    "# Step 5: Split data\n",
    "X_train, X_test, y_train, y_test = train_test_split(X, y, test_size=0.2, random_state=42, stratify=y)\n",
    "\n",
    "# Step 6: Train models\n",
    "models = {\n",
    "    'Random Forest': RandomForestClassifier(n_estimators=100, random_state=42),\n",
    "    'Logistic Regression': LogisticRegression(random_state=42),\n",
    "    'Gradient Boosting': GradientBoostingClassifier(random_state=42)\n",
    "}\n",
    "\n",
    "results = {}\n",
    "for name, model in models.items():\n",
    "    model.fit(X_train, y_train)\n",
    "    y_pred = model.predict(X_test)\n",
    "    y_pred_proba = model.predict_proba(X_test)[:, 1]\n",
    "    \n",
    "    results[name] = {\n",
    "        'model': model,\n",
    "        'recall': recall_score(y_test, y_pred),\n",
    "        'f1': f1_score(y_test, y_pred),\n",
    "        'auc': roc_auc_score(y_test, y_pred_proba)\n",
    "    }\n",
    "    \n",
    "    print(f'{name}: Recall={results[name][\"recall\"]:.3f}, F1={results[name][\"f1\"]:.3f}, AUC={results[name][\"auc\"]:.3f}')"
   ]
  },
  {
   "cell_type": "code",
   "execution_count": null,
   "id": "a90d69e9",
   "metadata": {},
   "outputs": [],
   "source": [
    "# Step 7: Select best model and explain with SHAP\n",
    "best_model = results['Random Forest']['model']  # Or choose based on metrics\n",
    "explainer = shap.Explainer(best_model, X_train)\n",
    "shap_values = explainer(X_test)\n",
    "shap.summary_plot(shap_values, X_test, feature_names=features)"
   ]
  },
  {
   "cell_type": "code",
   "execution_count": null,
   "id": "data_prep",
   "metadata": {},
   "outputs": [],
   "source": [
    "\n",
    "\n",
    "# Prepare features and target\n",
    "# X = df.drop('satisfaction_column', axis=1)  # Replace with your feature columns\n",
    "# y = df['satisfaction_column']  # Replace with your target column\n",
    "\n",
    "# Handle categorical variables\n",
    "# categorical_cols = X.select_dtypes(include=['object']).columns\n",
    "# for col in categorical_cols:\n",
    "#     le = LabelEncoder()\n",
    "#     X[col] = le.fit_transform(X[col])\n",
    "\n",
    "# Split data\n",
    "# X_train, X_test, y_train, y_test = train_test_split(X, y, test_size=0.2, random_state=42, stratify=y)"
   ]
  },
  {
   "cell_type": "code",
   "execution_count": null,
   "id": "model_training",
   "metadata": {},
   "outputs": [],
   "source": [
    "# Train multiple models\n",
    "models = {\n",
    "    'Logistic Regression': LogisticRegression(random_state=42),\n",
    "    'Random Forest': RandomForestClassifier(n_estimators=100, random_state=42),\n",
    "    'Gradient Boosting': GradientBoostingClassifier(random_state=42)\n",
    "}\n",
    "\n",
    "# Store results\n",
    "results = {}\n",
    "\n",
    "# for name, model in models.items():\n",
    "#     model.fit(X_train, y_train)\n",
    "#     y_pred = model.predict(X_test)\n",
    "#     y_pred_proba = model.predict_proba(X_test)[:, 1]\n",
    "#     \n",
    "#     results[name] = {\n",
    "#         'model': model,\n",
    "#         'recall': recall_score(y_test, y_pred),\n",
    "#         'f1': f1_score(y_test, y_pred),\n",
    "#         'auc': roc_auc_score(y_test, y_pred_proba)\n",
    "#     }\n",
    "#     \n",
    "#     print(f'{name} Performance:')\n",
    "#     print(f'Recall: {results[name][\"recall\"]:.3f}')\n",
    "#     print(f'F1 Score: {results[name][\"f1\"]:.3f}')\n",
    "#     print(f'AUC Score: {results[name][\"auc\"]:.3f}')\n",
    "#     print('\\n')"
   ]
  },
  {
   "cell_type": "code",
   "execution_count": null,
   "id": "model_evaluation",
   "metadata": {},
   "outputs": [],
   "source": [
    "# Compare model performance\n",
    "# performance_df = pd.DataFrame({\n",
    "#     'Model': list(results.keys()),\n",
    "#     'Recall': [results[model]['recall'] for model in results],\n",
    "#     'F1 Score': [results[model]['f1'] for model in results],\n",
    "#     'AUC Score': [results[model]['auc'] for model in results]\n",
    "# })\n",
    "# \n",
    "# print(performance_df)\n",
    "# \n",
    "# # Select best model\n",
    "# best_model_name = performance_df.loc[performance_df['F1 Score'].idxmax(), 'Model']\n",
    "# best_model = results[best_model_name]['model']\n",
    "# print(f'Best model: {best_model_name}')"
   ]
  },
  {
   "cell_type": "code",
   "execution_count": null,
   "id": "shap_explanation",
   "metadata": {},
   "outputs": [],
   "source": [
    "# SHAP explanations\n",
    "# explainer = shap.Explainer(best_model, X_train)\n",
    "# shap_values = explainer(X_test)\n",
    "# \n",
    "# # Summary plot\n",
    "# shap.summary_plot(shap_values, X_test, feature_names=X.columns)\n",
    "# \n",
    "# # Feature importance\n",
    "# shap.summary_plot(shap_values, X_test, plot_type='bar', feature_names=X.columns)"
   ]
  },
  {
   "cell_type": "code",
   "execution_count": null,
   "id": "lime_explanation",
   "metadata": {},
   "outputs": [],
   "source": [
    "# LIME explanations\n",
    "# explainer = LimeTabularExplainer(\n",
    "#     X_train.values,\n",
    "#     feature_names=X.columns,\n",
    "#     class_names=['Not Satisfied', 'Satisfied'],\n",
    "#     mode='classification'\n",
    "# )\n",
    "# \n",
    "# # Explain a single instance\n",
    "# idx = 0  # Change to any test instance\n",
    "# exp = explainer.explain_instance(\n",
    "#     X_test.iloc[idx].values,\n",
    "#     best_model.predict_proba,\n",
    "#     num_features=10\n",
    "# )\n",
    "# \n",
    "# exp.show_in_notebook(show_table=True)"
   ]
  },
  {
   "cell_type": "code",
   "execution_count": null,
   "id": "performance_monitoring",
   "metadata": {},
   "outputs": [],
   "source": [
    "# Performance monitoring visualization\n",
    "# fig, axes = plt.subplots(1, 3, figsize=(15, 5))\n",
    "# \n",
    "# metrics = ['Recall', 'F1 Score', 'AUC Score']\n",
    "# for i, metric in enumerate(metrics):\n",
    "#     performance_df.plot(x='Model', y=metric, kind='bar', ax=axes[i], rot=45)\n",
    "#     axes[i].set_title(f'{metric} Comparison')\n",
    "#     axes[i].set_ylabel(metric)\n",
    "# \n",
    "# plt.tight_layout()\n",
    "# plt.show()"
   ]
  },
  {
   "cell_type": "markdown",
   "id": "key_insights",
   "metadata": {},
   "source": [
    "### Key Steps Summary:\n",
    "\n",
    "1. **Data Preparation**: Load data, handle categorical variables, split into train/test\n",
    "2. **Model Training**: Train multiple classification models (Logistic Regression, Random Forest, Gradient Boosting)\n",
    "3. **Performance Evaluation**: Compare models using recall, F1, and AUC scores\n",
    "4. **Model Explanation**: Use SHAP for global feature importance and LIME for local explanations\n",
    "5. **Performance Monitoring**: Visualize and track model performance metrics\n",
    "\n",
    "**Next Steps:**\n",
    "- Uncomment and adapt the code with your actual data\n",
    "- Replace placeholder column names with your actual feature and target columns\n",
    "- Consider hyperparameter tuning for the best performing model\n",
    "- Analyze SHAP/LIME results to identify key satisfaction drivers"
   ]
  }
 ],
 "metadata": {
  "kernelspec": {
   "display_name": "learn-env",
   "language": "python",
   "name": "python3"
  },
  "language_info": {
   "name": "python",
   "version": "3.8.5"
  }
 },
 "nbformat": 4,
 "nbformat_minor": 5
}
