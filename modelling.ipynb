{
 "cells": [
  {
   "cell_type": "markdown",
   "id": "b688d33d",
   "metadata": {},
   "source": [
    "## GoK Huduma Satisfaction Prediction Model\n",
    "\n",
    "### Modeling Objectives\n",
    "- Train and evaluate classification models to predict satisfaction\n",
    "- Use SHAP to explain key satisfaction drivers\n",
    "- Monitor performance using recall, F1 and AUC scores\n",
    "- Handle class imbalance and feature engineering\n",
    "\n",
    "The notebook presents a comprehensive machine learning pipeline for predicting customer satisfaction. It begins with data preprocessing, including feature engineering, encoding, and scaling, followed by addressing class imbalance using SMOTE. The pipeline explores and compares multiple models—Random Forest, Gradient Boosting, and Logistic Regression—evaluated primarily through recall, F1-score, and AUC metrics. Feature importance analysis highlights key drivers influencing satisfaction, while model interpretability is enhanced using SHAP and Yellowbrick libraries. Among the tested models, Random Forest demonstrated the strongest performance, particularly in recall and AUC, making it the preferred choice for deployment in the customer satisfaction prediction system."
   ]
  },
  {
   "cell_type": "code",
   "execution_count": 1,
   "id": "8dac447a",
   "metadata": {},
   "outputs": [],
   "source": [
    "# Importing Necessary Libraries\n",
    "import pandas as pd\n",
    "import numpy as np\n",
    "from sklearn.model_selection import train_test_split, cross_val_score, StratifiedKFold\n",
    "from sklearn.ensemble import RandomForestClassifier, GradientBoostingClassifier\n",
    "from sklearn.linear_model import LogisticRegression\n",
    "from sklearn.metrics import classification_report, confusion_matrix, roc_auc_score, f1_score, recall_score, roc_curve\n",
    "from sklearn.preprocessing import StandardScaler, LabelEncoder\n",
    "from imblearn.over_sampling import SMOTE\n",
    "import matplotlib.pyplot as plt\n",
    "import seaborn as sns\n",
    "import shap\n",
    "import warnings\n",
    "warnings.filterwarnings(\"ignore\")\n",
    "\n",
    "plt.style.use('seaborn-darkgrid')\n",
    "sns.set_palette(\"husl\")"
   ]
  },
  {
   "cell_type": "code",
   "execution_count": 2,
   "id": "6f616770",
   "metadata": {},
   "outputs": [
    {
     "name": "stdout",
     "output_type": "stream",
     "text": [
      "Dataset shape: (364689, 14)\n",
      "\n",
      "Columns: ['Agency Name', 'Complaint Type', 'Descriptor', 'Borough', 'Resolution Description', 'Survey Year', 'Survey Month', 'Satisfaction Response', 'Dissatisfaction Reason', 'Justified Dissatisfaction', 'Cluster', 'Combined_Feedback', 'Sentiment Score', 'Sentiment Label']\n",
      "\n",
      "Missing values:\n",
      "Agency Name                  0\n",
      "Complaint Type               0\n",
      "Descriptor                   0\n",
      "Borough                      0\n",
      "Resolution Description       0\n",
      "Survey Year                  0\n",
      "Survey Month                 0\n",
      "Satisfaction Response        0\n",
      "Dissatisfaction Reason       0\n",
      "Justified Dissatisfaction    0\n",
      "Cluster                      0\n",
      "Combined_Feedback            0\n",
      "Sentiment Score              0\n",
      "Sentiment Label              0\n",
      "dtype: int64\n"
     ]
    },
    {
     "data": {
      "application/vnd.microsoft.datawrangler.viewer.v0+json": {
       "columns": [
        {
         "name": "index",
         "rawType": "int64",
         "type": "integer"
        },
        {
         "name": "Agency Name",
         "rawType": "object",
         "type": "string"
        },
        {
         "name": "Complaint Type",
         "rawType": "object",
         "type": "string"
        },
        {
         "name": "Descriptor",
         "rawType": "object",
         "type": "string"
        },
        {
         "name": "Borough",
         "rawType": "object",
         "type": "string"
        },
        {
         "name": "Resolution Description",
         "rawType": "object",
         "type": "string"
        },
        {
         "name": "Survey Year",
         "rawType": "int64",
         "type": "integer"
        },
        {
         "name": "Survey Month",
         "rawType": "int64",
         "type": "integer"
        },
        {
         "name": "Satisfaction Response",
         "rawType": "object",
         "type": "string"
        },
        {
         "name": "Dissatisfaction Reason",
         "rawType": "object",
         "type": "string"
        },
        {
         "name": "Justified Dissatisfaction",
         "rawType": "object",
         "type": "string"
        },
        {
         "name": "Cluster",
         "rawType": "int64",
         "type": "integer"
        },
        {
         "name": "Combined_Feedback",
         "rawType": "object",
         "type": "string"
        },
        {
         "name": "Sentiment Score",
         "rawType": "float64",
         "type": "float"
        },
        {
         "name": "Sentiment Label",
         "rawType": "object",
         "type": "string"
        }
       ],
       "ref": "18f4301e-c7de-4586-be5f-af791f4b3461",
       "rows": [
        [
         "0",
         "Department of Buildings",
         "Adult Establishment",
         "Zoning Violation",
         "MANHATTAN",
         "The Department of Buildings investigated this complaint and determined that no further action was necessary.",
         "2022",
         "10",
         "Strongly Agree",
         "Not Applicable",
         "Delays in inspections or provision of construction materials.",
         "0",
         "Delays in inspections or provision of construction materials.Not Applicable",
         "0.0",
         "neutral"
        ],
        [
         "1",
         "Department of Buildings",
         "Adult Establishment",
         "Zoning Violation",
         "BROOKLYN",
         "The Department of Buildings investigated this complaint and determined that no further action was necessary.",
         "2024",
         "11",
         "Strongly Disagree",
         "The Agency did not correct the issue.",
         "Delays in inspections or provision of construction materials.",
         "1",
         "Delays in inspections or provision of construction materials.The Agency did not correct the issue.",
         "0.0",
         "neutral"
        ],
        [
         "2",
         "Department for the Aging",
         "Legal Services Provider Complaint",
         "Not Provided",
         "MANHATTAN",
         "The Department for the Aging contacted you and provided the assistance requested. No further updates will be available through 311. If further assistance is needed, please open a new Service Request.",
         "2024",
         "3",
         "Strongly Agree",
         "Not Applicable",
         "Lack of timely support or services for senior citizens.",
         "0",
         "Lack of timely support or services for senior citizens.Not Applicable",
         "0.1027",
         "positive"
        ],
        [
         "3",
         "Department of Buildings",
         "Advertising Sign",
         "Poster",
         "MANHATTAN",
         "The Department of Buildings reviewed this complaint and referred it to the Department of Sanitation for further action.",
         "2024",
         "2",
         "Neutral",
         "Not Applicable",
         "Delays in inspections or provision of construction materials.",
         "0",
         "Delays in inspections or provision of construction materials.Not Applicable",
         "0.0",
         "neutral"
        ],
        [
         "4",
         "Department of Buildings",
         "Advertising Sign",
         "Billboard",
         "MANHATTAN",
         "The Department of Buildings investigated this complaint and determined that no further action was necessary.",
         "2023",
         "10",
         "Strongly Disagree",
         "Status updates were unhelpful, inaccurate, incomplete, and/or confusing.",
         "Delays in inspections or provision of construction materials.",
         "3",
         "Delays in inspections or provision of construction materials.Status updates were unhelpful, inaccurate, incomplete, and/or confusing.",
         "0.0",
         "neutral"
        ]
       ],
       "shape": {
        "columns": 14,
        "rows": 5
       }
      },
      "text/html": [
       "<div>\n",
       "<style scoped>\n",
       "    .dataframe tbody tr th:only-of-type {\n",
       "        vertical-align: middle;\n",
       "    }\n",
       "\n",
       "    .dataframe tbody tr th {\n",
       "        vertical-align: top;\n",
       "    }\n",
       "\n",
       "    .dataframe thead th {\n",
       "        text-align: right;\n",
       "    }\n",
       "</style>\n",
       "<table border=\"1\" class=\"dataframe\">\n",
       "  <thead>\n",
       "    <tr style=\"text-align: right;\">\n",
       "      <th></th>\n",
       "      <th>Agency Name</th>\n",
       "      <th>Complaint Type</th>\n",
       "      <th>Descriptor</th>\n",
       "      <th>Borough</th>\n",
       "      <th>Resolution Description</th>\n",
       "      <th>Survey Year</th>\n",
       "      <th>Survey Month</th>\n",
       "      <th>Satisfaction Response</th>\n",
       "      <th>Dissatisfaction Reason</th>\n",
       "      <th>Justified Dissatisfaction</th>\n",
       "      <th>Cluster</th>\n",
       "      <th>Combined_Feedback</th>\n",
       "      <th>Sentiment Score</th>\n",
       "      <th>Sentiment Label</th>\n",
       "    </tr>\n",
       "  </thead>\n",
       "  <tbody>\n",
       "    <tr>\n",
       "      <th>0</th>\n",
       "      <td>Department of Buildings</td>\n",
       "      <td>Adult Establishment</td>\n",
       "      <td>Zoning Violation</td>\n",
       "      <td>MANHATTAN</td>\n",
       "      <td>The Department of Buildings investigated this ...</td>\n",
       "      <td>2022</td>\n",
       "      <td>10</td>\n",
       "      <td>Strongly Agree</td>\n",
       "      <td>Not Applicable</td>\n",
       "      <td>Delays in inspections or provision of construc...</td>\n",
       "      <td>0</td>\n",
       "      <td>Delays in inspections or provision of construc...</td>\n",
       "      <td>0.0000</td>\n",
       "      <td>neutral</td>\n",
       "    </tr>\n",
       "    <tr>\n",
       "      <th>1</th>\n",
       "      <td>Department of Buildings</td>\n",
       "      <td>Adult Establishment</td>\n",
       "      <td>Zoning Violation</td>\n",
       "      <td>BROOKLYN</td>\n",
       "      <td>The Department of Buildings investigated this ...</td>\n",
       "      <td>2024</td>\n",
       "      <td>11</td>\n",
       "      <td>Strongly Disagree</td>\n",
       "      <td>The Agency did not correct the issue.</td>\n",
       "      <td>Delays in inspections or provision of construc...</td>\n",
       "      <td>1</td>\n",
       "      <td>Delays in inspections or provision of construc...</td>\n",
       "      <td>0.0000</td>\n",
       "      <td>neutral</td>\n",
       "    </tr>\n",
       "    <tr>\n",
       "      <th>2</th>\n",
       "      <td>Department for the Aging</td>\n",
       "      <td>Legal Services Provider Complaint</td>\n",
       "      <td>Not Provided</td>\n",
       "      <td>MANHATTAN</td>\n",
       "      <td>The Department for the Aging contacted you and...</td>\n",
       "      <td>2024</td>\n",
       "      <td>3</td>\n",
       "      <td>Strongly Agree</td>\n",
       "      <td>Not Applicable</td>\n",
       "      <td>Lack of timely support or services for senior ...</td>\n",
       "      <td>0</td>\n",
       "      <td>Lack of timely support or services for senior ...</td>\n",
       "      <td>0.1027</td>\n",
       "      <td>positive</td>\n",
       "    </tr>\n",
       "    <tr>\n",
       "      <th>3</th>\n",
       "      <td>Department of Buildings</td>\n",
       "      <td>Advertising Sign</td>\n",
       "      <td>Poster</td>\n",
       "      <td>MANHATTAN</td>\n",
       "      <td>The Department of Buildings reviewed this comp...</td>\n",
       "      <td>2024</td>\n",
       "      <td>2</td>\n",
       "      <td>Neutral</td>\n",
       "      <td>Not Applicable</td>\n",
       "      <td>Delays in inspections or provision of construc...</td>\n",
       "      <td>0</td>\n",
       "      <td>Delays in inspections or provision of construc...</td>\n",
       "      <td>0.0000</td>\n",
       "      <td>neutral</td>\n",
       "    </tr>\n",
       "    <tr>\n",
       "      <th>4</th>\n",
       "      <td>Department of Buildings</td>\n",
       "      <td>Advertising Sign</td>\n",
       "      <td>Billboard</td>\n",
       "      <td>MANHATTAN</td>\n",
       "      <td>The Department of Buildings investigated this ...</td>\n",
       "      <td>2023</td>\n",
       "      <td>10</td>\n",
       "      <td>Strongly Disagree</td>\n",
       "      <td>Status updates were unhelpful, inaccurate, inc...</td>\n",
       "      <td>Delays in inspections or provision of construc...</td>\n",
       "      <td>3</td>\n",
       "      <td>Delays in inspections or provision of construc...</td>\n",
       "      <td>0.0000</td>\n",
       "      <td>neutral</td>\n",
       "    </tr>\n",
       "  </tbody>\n",
       "</table>\n",
       "</div>"
      ],
      "text/plain": [
       "                Agency Name                     Complaint Type  \\\n",
       "0   Department of Buildings                Adult Establishment   \n",
       "1   Department of Buildings                Adult Establishment   \n",
       "2  Department for the Aging  Legal Services Provider Complaint   \n",
       "3   Department of Buildings                   Advertising Sign   \n",
       "4   Department of Buildings                   Advertising Sign   \n",
       "\n",
       "         Descriptor    Borough  \\\n",
       "0  Zoning Violation  MANHATTAN   \n",
       "1  Zoning Violation   BROOKLYN   \n",
       "2      Not Provided  MANHATTAN   \n",
       "3            Poster  MANHATTAN   \n",
       "4         Billboard  MANHATTAN   \n",
       "\n",
       "                              Resolution Description  Survey Year  \\\n",
       "0  The Department of Buildings investigated this ...         2022   \n",
       "1  The Department of Buildings investigated this ...         2024   \n",
       "2  The Department for the Aging contacted you and...         2024   \n",
       "3  The Department of Buildings reviewed this comp...         2024   \n",
       "4  The Department of Buildings investigated this ...         2023   \n",
       "\n",
       "   Survey Month Satisfaction Response  \\\n",
       "0            10        Strongly Agree   \n",
       "1            11     Strongly Disagree   \n",
       "2             3        Strongly Agree   \n",
       "3             2               Neutral   \n",
       "4            10     Strongly Disagree   \n",
       "\n",
       "                              Dissatisfaction Reason  \\\n",
       "0                                     Not Applicable   \n",
       "1              The Agency did not correct the issue.   \n",
       "2                                     Not Applicable   \n",
       "3                                     Not Applicable   \n",
       "4  Status updates were unhelpful, inaccurate, inc...   \n",
       "\n",
       "                           Justified Dissatisfaction  Cluster  \\\n",
       "0  Delays in inspections or provision of construc...        0   \n",
       "1  Delays in inspections or provision of construc...        1   \n",
       "2  Lack of timely support or services for senior ...        0   \n",
       "3  Delays in inspections or provision of construc...        0   \n",
       "4  Delays in inspections or provision of construc...        3   \n",
       "\n",
       "                                   Combined_Feedback  Sentiment Score  \\\n",
       "0  Delays in inspections or provision of construc...           0.0000   \n",
       "1  Delays in inspections or provision of construc...           0.0000   \n",
       "2  Lack of timely support or services for senior ...           0.1027   \n",
       "3  Delays in inspections or provision of construc...           0.0000   \n",
       "4  Delays in inspections or provision of construc...           0.0000   \n",
       "\n",
       "  Sentiment Label  \n",
       "0         neutral  \n",
       "1         neutral  \n",
       "2        positive  \n",
       "3         neutral  \n",
       "4         neutral  "
      ]
     },
     "execution_count": 2,
     "metadata": {},
     "output_type": "execute_result"
    }
   ],
   "source": [
    "# Loading and exploring the data\n",
    "df = pd.read_csv('eda_incl.csv')\n",
    "print(f\"Dataset shape: {df.shape}\")\n",
    "print(f\"\\nColumns: {list(df.columns)}\")\n",
    "print(f\"\\nMissing values:\\n{df.isnull().sum()}\")\n",
    "df.head()"
   ]
  },
  {
   "cell_type": "code",
   "execution_count": 3,
   "id": "2636c456",
   "metadata": {},
   "outputs": [
    {
     "name": "stdout",
     "output_type": "stream",
     "text": [
      "Class distribution:\n",
      "0    0.665545\n",
      "1    0.334455\n",
      "Name: Satisfied, dtype: float64\n"
     ]
    },
    {
     "data": {
      "image/png": "[encoded data removed]",
      "text/plain": [
       "<Figure size 576x360 with 1 Axes>"
      ]
     },
     "metadata": {},
     "output_type": "display_data"
    }
   ],
   "source": [
    "# Creating binary satisfaction target\n",
    "satisfaction_mapping = {\n",
    "    'Strongly Agree': 1,\n",
    "    'Agree': 1,\n",
    "    'Neutral': 0,\n",
    "    'Disagree': 0,\n",
    "    'Strongly Disagree': 0\n",
    "}\n",
    "\n",
    "df['Satisfied'] = df['Satisfaction Response'].map(satisfaction_mapping)\n",
    "\n",
    "# Check class distribution\n",
    "print(\"Class distribution:\")\n",
    "print(df['Satisfied'].value_counts(normalize=True))\n",
    "\n",
    "# Visualize class distribution\n",
    "plt.figure(figsize=(8, 5))\n",
    "df['Satisfied'].value_counts().plot(kind='bar')\n",
    "plt.title('Class Distribution: Satisfied vs Not Satisfied')\n",
    "plt.xlabel('Satisfaction (0=Not Satisfied, 1=Satisfied)')\n",
    "plt.ylabel('Count')\n",
    "plt.xticks(rotation=0)\n",
    "plt.show(); "
   ]
  },
  {
   "cell_type": "markdown",
   "id": "f2b7ce89",
   "metadata": {},
   "source": [
    "### Feature Engineering"
   ]
  },
  {
   "cell_type": "code",
   "execution_count": 4,
   "id": "d3ea61a3",
   "metadata": {},
   "outputs": [
    {
     "name": "stdout",
     "output_type": "stream",
     "text": [
      "Categorical features: ['Agency Name', 'Complaint Type', 'Borough', 'Sentiment Label']\n",
      "Numerical features: ['Survey Year', 'Survey Month', 'Cluster', 'Sentiment Score', 'resolution_length', 'dissatisfaction_reason_provided', 'sentiment_positive', 'sentiment_negative']\n"
     ]
    }
   ],
   "source": [
    "# Creating new features\n",
    "df['resolution_length'] = df['Resolution Description'].str.len()\n",
    "df['dissatisfaction_reason_provided'] = (df['Dissatisfaction Reason'] != 'Not Applicable').astype(int)\n",
    "df['sentiment_positive'] = (df['Sentiment Label'] == 'positive').astype(int)\n",
    "df['sentiment_negative'] = (df['Sentiment Label'] == 'negative').astype(int)\n",
    "\n",
    "# Select features for modeling\n",
    "categorical_features = ['Agency Name', 'Complaint Type', 'Borough', 'Sentiment Label']\n",
    "numerical_features = ['Survey Year', 'Survey Month', 'Cluster', 'Sentiment Score', \n",
    "                     'resolution_length', 'dissatisfaction_reason_provided', \n",
    "                     'sentiment_positive', 'sentiment_negative']\n",
    "\n",
    "print(f\"Categorical features: {categorical_features}\")\n",
    "print(f\"Numerical features: {numerical_features}\")"
   ]
  },
  {
   "cell_type": "markdown",
   "id": "0eb4f975",
   "metadata": {},
   "source": [
    "### Data Preprocessing Pipeline"
   ]
  },
  {
   "cell_type": "code",
   "execution_count": 5,
   "id": "6e87abc5",
   "metadata": {},
   "outputs": [
    {
     "name": "stdout",
     "output_type": "stream",
     "text": [
      "Feature matrix shape: (364689, 12)\n",
      "Target distribution: 0    242717\n",
      "1    121972\n",
      "Name: Satisfied, dtype: int64\n"
     ]
    }
   ],
   "source": [
    "# Handle missing values\n",
    "for col in categorical_features:\n",
    "    df[col] = df[col].fillna('Unknown')\n",
    "\n",
    "for col in numerical_features:\n",
    "    df[col] = df[col].fillna(df[col].median())\n",
    "\n",
    "# Encode categorical variables\n",
    "label_encoders = {}\n",
    "for col in categorical_features:\n",
    "    le = LabelEncoder()\n",
    "    df[f'{col}_encoded'] = le.fit_transform(df[col])\n",
    "    label_encoders[col] = le\n",
    "\n",
    "# Prepare feature matrix\n",
    "encoded_categorical = [f'{col}_encoded' for col in categorical_features]\n",
    "all_features = numerical_features + encoded_categorical\n",
    "\n",
    "X = df[all_features]\n",
    "y = df['Satisfied']\n",
    "\n",
    "print(f\"Feature matrix shape: {X.shape}\")\n",
    "print(f\"Target distribution: {y.value_counts()}\")"
   ]
  },
  {
   "cell_type": "markdown",
   "id": "90805b29",
   "metadata": {},
   "source": [
    "### Train/Validation/Test Split"
   ]
  },
  {
   "cell_type": "code",
   "execution_count": 6,
   "id": "52aef514",
   "metadata": {},
   "outputs": [
    {
     "name": "stdout",
     "output_type": "stream",
     "text": [
      "Training set: (218813, 12)\n",
      "Validation set: (72938, 12)\n",
      "Test set: (72938, 12)\n"
     ]
    }
   ],
   "source": [
    "# Split data: 60% train, 20% validation, 20% test\n",
    "X_temp, X_test, y_temp, y_test = train_test_split(X, y, test_size=0.2, random_state=42, stratify=y)\n",
    "X_train, X_val, y_train, y_val = train_test_split(X_temp, y_temp, test_size=0.25, random_state=42, stratify=y_temp)\n",
    "\n",
    "print(f\"Training set: {X_train.shape}\")\n",
    "print(f\"Validation set: {X_val.shape}\")\n",
    "print(f\"Test set: {X_test.shape}\")\n",
    "\n",
    "# Feature scaling\n",
    "scaler = StandardScaler()\n",
    "X_train_scaled = scaler.fit_transform(X_train)\n",
    "X_val_scaled = scaler.transform(X_val)\n",
    "X_test_scaled = scaler.transform(X_test)"
   ]
  },
  {
   "cell_type": "markdown",
   "id": "4be3ae4b",
   "metadata": {},
   "source": [
    "### Handling Class Imbalance"
   ]
  },
  {
   "cell_type": "code",
   "execution_count": 7,
   "id": "556970e6",
   "metadata": {},
   "outputs": [
    {
     "name": "stdout",
     "output_type": "stream",
     "text": [
      "Original training set distribution: 0    145630\n",
      "1     73183\n",
      "Name: Satisfied, dtype: int64\n",
      "Balanced training set distribution: 0    145630\n",
      "1    145630\n",
      "Name: Satisfied, dtype: int64\n"
     ]
    }
   ],
   "source": [
    "# Applying SMOTE to handle class imbalance\n",
    "smote = SMOTE(random_state=42)\n",
    "X_train_balanced, y_train_balanced = smote.fit_resample(X_train_scaled, y_train)\n",
    "\n",
    "print(f\"Original training set distribution: {y_train.value_counts()}\")\n",
    "print(f\"Balanced training set distribution: {pd.Series(y_train_balanced).value_counts()}\")"
   ]
  },
  {
   "cell_type": "markdown",
   "id": "33c9c405",
   "metadata": {},
   "source": [
    "### Model Training and Evaluation"
   ]
  },
  {
   "cell_type": "code",
   "execution_count": 8,
   "id": "1f1e5652",
   "metadata": {},
   "outputs": [
    {
     "name": "stdout",
     "output_type": "stream",
     "text": [
      "\n",
      "Training Random Forest...\n",
      "Recall: 0.974\n",
      "F1 Score: 0.924\n",
      "AUC Score: 0.973\n",
      "\n",
      "Training XGBoost...\n",
      "Recall: 1.000\n",
      "F1 Score: 0.933\n",
      "AUC Score: 0.977\n",
      "\n",
      "Training Logistic Regression...\n",
      "Recall: 1.000\n",
      "F1 Score: 0.933\n",
      "AUC Score: 0.972\n",
      "\n",
      "Model Performance Summary:\n",
      "                       Recall        F1       AUC\n",
      "Random Forest        0.973929  0.924115  0.972931\n",
      "XGBoost              1.000000  0.933226  0.977140\n",
      "Logistic Regression  0.999959  0.933242  0.972048\n"
     ]
    }
   ],
   "source": [
    "# Initializing models\n",
    "models = {\n",
    "    'Random Forest': RandomForestClassifier(n_estimators=100, random_state=42),\n",
    "    'XGBoost': GradientBoostingClassifier(n_estimators=100, random_state=42),\n",
    "    'Logistic Regression': LogisticRegression(random_state=42, max_iter=1000)\n",
    "}\n",
    "\n",
    "# Training and evaluating models\n",
    "results = {}\n",
    "trained_models = {}\n",
    "\n",
    "for name, model in models.items():\n",
    "    print(f\"\\nTraining {name}...\")\n",
    "    \n",
    "    # Train model\n",
    "    model.fit(X_train_balanced, y_train_balanced)\n",
    "    trained_models[name] = model\n",
    "    \n",
    "    # Predictions\n",
    "    y_pred = model.predict(X_val_scaled)\n",
    "    y_pred_proba = model.predict_proba(X_val_scaled)[:, 1]\n",
    "    \n",
    "    # Calculate metrics\n",
    "    recall = recall_score(y_val, y_pred)\n",
    "    f1 = f1_score(y_val, y_pred)\n",
    "    auc = roc_auc_score(y_val, y_pred_proba)\n",
    "    \n",
    "    results[name] = {\n",
    "        'Recall': recall,\n",
    "        'F1': f1,\n",
    "        'AUC': auc\n",
    "    }\n",
    "    \n",
    "    print(f\"Recall: {recall:.3f}\")\n",
    "    print(f\"F1 Score: {f1:.3f}\")\n",
    "    print(f\"AUC Score: {auc:.3f}\")\n",
    "\n",
    "# Results summary\n",
    "results_df = pd.DataFrame(results).T\n",
    "print(\"\\nModel Performance Summary:\")\n",
    "print(results_df)"
   ]
  },
  {
   "cell_type": "markdown",
   "id": "6c4bf6a0",
   "metadata": {},
   "source": [
    "### Cross-Validation"
   ]
  },
  {
   "cell_type": "code",
   "execution_count": 9,
   "id": "b836dc52",
   "metadata": {},
   "outputs": [
    {
     "name": "stdout",
     "output_type": "stream",
     "text": [
      "Random Forest - CV AUC: 0.975 (+/- 0.002)\n",
      "XGBoost - CV AUC: 0.977 (+/- 0.001)\n",
      "Logistic Regression - CV AUC: 0.971 (+/- 0.002)\n",
      "\n",
      "Cross-Validation Results:\n",
      "                     Mean AUC   Std AUC\n",
      "Random Forest        0.975194  0.000984\n",
      "XGBoost              0.976871  0.000701\n",
      "Logistic Regression  0.970980  0.001113\n"
     ]
    }
   ],
   "source": [
    "# Cross-validation with stratified k-fold\n",
    "cv = StratifiedKFold(n_splits=5, shuffle=True, random_state=42)\n",
    "cv_results = {}\n",
    "\n",
    "for name, model in models.items():\n",
    "    cv_scores = cross_val_score(model, X_train_balanced, y_train_balanced, cv=cv, scoring='roc_auc')\n",
    "    cv_results[name] = {\n",
    "        'Mean AUC': cv_scores.mean(),\n",
    "        'Std AUC': cv_scores.std()\n",
    "    }\n",
    "    print(f\"{name} - CV AUC: {cv_scores.mean():.3f} (+/- {cv_scores.std() * 2:.3f})\")\n",
    "\n",
    "cv_df = pd.DataFrame(cv_results).T\n",
    "print(\"\\nCross-Validation Results:\")\n",
    "print(cv_df)"
   ]
  },
  {
   "cell_type": "markdown",
   "id": "92ca4050",
   "metadata": {},
   "source": [
    "### Feature Importance Visualization"
   ]
  },
  {
   "cell_type": "code",
   "execution_count": 10,
   "id": "0343ba9e",
   "metadata": {},
   "outputs": [
    {
     "data": {
      "image/png": "[encoded data removed]",
      "text/plain": [
       "<Figure size 720x576 with 1 Axes>"
      ]
     },
     "metadata": {},
     "output_type": "display_data"
    },
    {
     "name": "stdout",
     "output_type": "stream",
     "text": [
      "Top 10 Most Important Features:\n",
      "                            feature  importance\n",
      "5   dissatisfaction_reason_provided    0.455813\n",
      "2                           Cluster    0.440483\n",
      "4                 resolution_length    0.036640\n",
      "1                      Survey Month    0.020932\n",
      "9            Complaint Type_encoded    0.018090\n",
      "10                  Borough_encoded    0.009413\n",
      "0                       Survey Year    0.005879\n",
      "8               Agency Name_encoded    0.005347\n",
      "3                   Sentiment Score    0.005116\n",
      "7                sentiment_negative    0.001394\n"
     ]
    }
   ],
   "source": [
    "# Feature importance for Random Forest\n",
    "rf_model = trained_models['Random Forest']\n",
    "feature_importance = pd.DataFrame({\n",
    "    'feature': all_features,\n",
    "    'importance': rf_model.feature_importances_\n",
    "}).sort_values('importance', ascending=False)\n",
    "\n",
    "plt.figure(figsize=(10, 8))\n",
    "sns.barplot(data=feature_importance.head(10), x='importance', y='feature')\n",
    "plt.title('Top 10 Feature Importance (Random Forest)')\n",
    "plt.xlabel('Importance')\n",
    "plt.tight_layout()\n",
    "plt.show()\n",
    "\n",
    "print(\"Top 10 Most Important Features:\")\n",
    "print(feature_importance.head(10))"
   ]
  },
  {
   "cell_type": "markdown",
   "id": "3b8754c9",
   "metadata": {},
   "source": [
    "### Yellowbrick Visualization for Model Interpretability"
   ]
  },
  {
   "cell_type": "code",
   "execution_count": 26,
   "id": "41db82c9",
   "metadata": {},
   "outputs": [
    {
     "data": {
      "image/png": "[encoded data removed]",
      "text/plain": [
       "<Figure size 576x396 with 1 Axes>"
      ]
     },
     "metadata": {},
     "output_type": "display_data"
    }
   ],
   "source": [
    "# Importing Yellowbrick visualizer\n",
    "from yellowbrick.classifier import ClassPredictionError\n",
    "\n",
    "# Class Prediction Error\n",
    "cpe = ClassPredictionError(trained_models['Random Forest'], classes=['Not Satisfied', 'Satisfied'])\n",
    "cpe.fit(X_train_balanced, y_train_balanced)\n",
    "cpe.score(X_val_scaled, y_val)\n",
    "cpe.show(); "
   ]
  },
  {
   "cell_type": "markdown",
   "id": "09cc8e30",
   "metadata": {},
   "source": [
    "### SHAP Analysis for Model Interpretability"
   ]
  },
  {
   "cell_type": "code",
   "execution_count": 11,
   "id": "ba560a9e",
   "metadata": {},
   "outputs": [],
   "source": [
    "# SHAP analysis for Random Forest (best performing model)\n",
    "best_model = trained_models['Random Forest']\n",
    "\n",
    "# Create SHAP explainer\n",
    "explainer = shap.TreeExplainer(best_model)\n",
    "shap_values = explainer.shap_values(X_val_scaled[:1000])  # Use subset for performance"
   ]
  },
  {
   "cell_type": "code",
   "execution_count": 12,
   "id": "cb4d0f0e",
   "metadata": {},
   "outputs": [
    {
     "data": {
      "image/png": "[encoded data removed]",
      "text/plain": [
       "<Figure size 576x453.6 with 2 Axes>"
      ]
     },
     "metadata": {},
     "output_type": "display_data"
    }
   ],
   "source": [
    "# SHAP summary plot\n",
    "plt.figure(figsize=(10, 8))\n",
    "shap.summary_plot(shap_values[1], X_val_scaled[:1000], feature_names=all_features, show=False)\n",
    "plt.title('SHAP Summary Plot - Feature Impact on Satisfaction')\n",
    "plt.tight_layout()\n",
    "plt.show(); "
   ]
  },
  {
   "cell_type": "markdown",
   "id": "22948094",
   "metadata": {},
   "source": [
    "### Final Model Evaluation on Test Set"
   ]
  },
  {
   "cell_type": "code",
   "execution_count": 23,
   "id": "8d624957",
   "metadata": {},
   "outputs": [
    {
     "name": "stdout",
     "output_type": "stream",
     "text": [
      "Final Test Set Performance:\n",
      "Recall: 0.970\n",
      "F1 Score: 0.921\n",
      "AUC Score: 0.972\n",
      "\n",
      "Classification Report:\n",
      "              precision    recall  f1-score   support\n",
      "\n",
      "           0       0.98      0.93      0.96     48544\n",
      "           1       0.88      0.97      0.92     24394\n",
      "\n",
      "    accuracy                           0.94     72938\n",
      "   macro avg       0.93      0.95      0.94     72938\n",
      "weighted avg       0.95      0.94      0.94     72938\n",
      "\n"
     ]
    }
   ],
   "source": [
    "# Evaluate best model on test set\n",
    "best_model = trained_models['Random Forest']\n",
    "y_test_pred = best_model.predict(X_test_scaled)\n",
    "y_test_proba = best_model.predict_proba(X_test_scaled)[:, 1]\n",
    "\n",
    "# Calculate final metrics\n",
    "test_recall = recall_score(y_test, y_test_pred)\n",
    "test_f1 = f1_score(y_test, y_test_pred)\n",
    "test_auc = roc_auc_score(y_test, y_test_proba)\n",
    "\n",
    "print(\"Final Test Set Performance:\")\n",
    "print(f\"Recall: {test_recall:.3f}\")\n",
    "print(f\"F1 Score: {test_f1:.3f}\")\n",
    "print(f\"AUC Score: {test_auc:.3f}\")\n",
    "\n",
    "# Classification report\n",
    "print(\"\\nClassification Report:\")\n",
    "print(classification_report(y_test, y_test_pred))"
   ]
  },
  {
   "cell_type": "code",
   "execution_count": 24,
   "id": "504c2969",
   "metadata": {},
   "outputs": [
    {
     "data": {
      "text/plain": [
       "['best_model.joblib']"
      ]
     },
     "execution_count": 24,
     "metadata": {},
     "output_type": "execute_result"
    }
   ],
   "source": [
    "# Import joblib for model persistence\n",
    "import joblib\n",
    "\n",
    "# Save the best model to disk\n",
    "joblib.dump(best_model, 'best_model.joblib')"
   ]
  }
 ],
 "metadata": {
  "kernelspec": {
   "display_name": "learn-env",
   "language": "python",
   "name": "python3"
  },
  "language_info": {
   "codemirror_mode": {
    "name": "ipython",
    "version": 3
   },
   "file_extension": ".py",
   "mimetype": "text/x-python",
   "name": "python",
   "nbconvert_exporter": "python",
   "pygments_lexer": "ipython3",
   "version": "3.8.5"
  }
 },
 "nbformat": 4,
 "nbformat_minor": 5
}
