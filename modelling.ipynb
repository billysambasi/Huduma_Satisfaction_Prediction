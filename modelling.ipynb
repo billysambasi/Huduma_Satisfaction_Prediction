{
 "cells": [
  {
   "cell_type": "markdown",
   "id": "20b97958",
   "metadata": {},
   "source": [
    "### Modeling Objectives\n",
    "- Train and evaluate classification models to predict satisfaction.\n",
    "- Use SHAP or LIME to explain key satisfaction drivers.\n",
    "- Monitor performance using recall, F1, and AUC scores.\n"
   ]
  },
  {
   "cell_type": "code",
   "execution_count": 1,
   "id": "2e74c4f9",
   "metadata": {},
   "outputs": [
    {
     "name": "stderr",
     "output_type": "stream",
     "text": [
      "c:\\Users\\User\\anaconda3\\envs\\learn-env\\lib\\site-packages\\numpy\\_distributor_init.py:30: UserWarning: loaded more than 1 DLL from .libs:\n",
      "c:\\Users\\User\\anaconda3\\envs\\learn-env\\lib\\site-packages\\numpy\\.libs\\libopenblas.PYQHXLVVQ7VESDPUVUADXEVJOBGHJPAY.gfortran-win_amd64.dll\n",
      "c:\\Users\\User\\anaconda3\\envs\\learn-env\\lib\\site-packages\\numpy\\.libs\\libopenblas64__v0.3.21-gcc_10_3_0.dll\n",
      "  warnings.warn(\"loaded more than 1 DLL from .libs:\"\n"
     ]
    }
   ],
   "source": [
    "# Import libraries\n",
    "\n",
    "import pandas as pd\n",
    "import numpy as np\n",
    "from sklearn.model_selection import train_test_split, cross_val_score\n",
    "from sklearn.ensemble import RandomForestClassifier, GradientBoostingClassifier\n",
    "from sklearn.linear_model import LogisticRegression\n",
    "from sklearn.metrics import classification_report, confusion_matrix, roc_auc_score, f1_score, recall_score\n",
    "from sklearn.preprocessing import StandardScaler, LabelEncoder\n",
    "import matplotlib.pyplot as plt\n",
    "import seaborn as sns\n",
    "\n",
    "import warnings\n",
    "warnings.filterwarnings(\"ignore\")\n",
    "# Import explainability libraries \n",
    "import shap\n",
    "import lime\n",
    "from lime.lime_tabular import LimeTabularExplainer \n",
    "\n"
   ]
  },
  {
   "cell_type": "code",
   "execution_count": 2,
   "id": "d28e6010",
   "metadata": {},
   "outputs": [],
   "source": [
    "# df1 = pd.read_csv(\"cleaned.csv\")\n",
    "# df1.head()"
   ]
  },
  {
   "cell_type": "code",
   "execution_count": 3,
   "id": "2e525f1b",
   "metadata": {},
   "outputs": [
    {
     "data": {
      "application/vnd.microsoft.datawrangler.viewer.v0+json": {
       "columns": [
        {
         "name": "index",
         "rawType": "int64",
         "type": "integer"
        },
        {
         "name": "Agency Name",
         "rawType": "object",
         "type": "string"
        },
        {
         "name": "Complaint Type",
         "rawType": "object",
         "type": "string"
        },
        {
         "name": "Descriptor",
         "rawType": "object",
         "type": "string"
        },
        {
         "name": "Borough",
         "rawType": "object",
         "type": "string"
        },
        {
         "name": "Resolution Description",
         "rawType": "object",
         "type": "string"
        },
        {
         "name": "Survey Year",
         "rawType": "int64",
         "type": "integer"
        },
        {
         "name": "Survey Month",
         "rawType": "int64",
         "type": "integer"
        },
        {
         "name": "Satisfaction Response",
         "rawType": "object",
         "type": "string"
        },
        {
         "name": "Dissatisfaction Reason",
         "rawType": "object",
         "type": "string"
        },
        {
         "name": "Justified Dissatisfaction",
         "rawType": "object",
         "type": "string"
        },
        {
         "name": "Cluster",
         "rawType": "int64",
         "type": "integer"
        },
        {
         "name": "Combined_Feedback",
         "rawType": "object",
         "type": "string"
        },
        {
         "name": "Sentiment Score",
         "rawType": "float64",
         "type": "float"
        },
        {
         "name": "Sentiment Label",
         "rawType": "object",
         "type": "string"
        }
       ],
       "ref": "3aa324bb-a678-452e-b32a-037179a820a5",
       "rows": [
        [
         "0",
         "Department of Buildings",
         "Adult Establishment",
         "Zoning Violation",
         "MANHATTAN",
         "The Department of Buildings investigated this complaint and determined that no further action was necessary.",
         "2022",
         "10",
         "Strongly Agree",
         "Not Applicable",
         "Delays in inspections or provision of construction materials.",
         "0",
         "Delays in inspections or provision of construction materials.Not Applicable",
         "0.0",
         "neutral"
        ],
        [
         "1",
         "Department of Buildings",
         "Adult Establishment",
         "Zoning Violation",
         "BROOKLYN",
         "The Department of Buildings investigated this complaint and determined that no further action was necessary.",
         "2024",
         "11",
         "Strongly Disagree",
         "The Agency did not correct the issue.",
         "Delays in inspections or provision of construction materials.",
         "1",
         "Delays in inspections or provision of construction materials.The Agency did not correct the issue.",
         "0.0",
         "neutral"
        ],
        [
         "2",
         "Department for the Aging",
         "Legal Services Provider Complaint",
         "Not Provided",
         "MANHATTAN",
         "The Department for the Aging contacted you and provided the assistance requested. No further updates will be available through 311. If further assistance is needed, please open a new Service Request.",
         "2024",
         "3",
         "Strongly Agree",
         "Not Applicable",
         "Lack of timely support or services for senior citizens.",
         "0",
         "Lack of timely support or services for senior citizens.Not Applicable",
         "0.1027",
         "positive"
        ],
        [
         "3",
         "Department of Buildings",
         "Advertising Sign",
         "Poster",
         "MANHATTAN",
         "The Department of Buildings reviewed this complaint and referred it to the Department of Sanitation for further action.",
         "2024",
         "2",
         "Neutral",
         "Not Applicable",
         "Delays in inspections or provision of construction materials.",
         "0",
         "Delays in inspections or provision of construction materials.Not Applicable",
         "0.0",
         "neutral"
        ],
        [
         "4",
         "Department of Buildings",
         "Advertising Sign",
         "Billboard",
         "MANHATTAN",
         "The Department of Buildings investigated this complaint and determined that no further action was necessary.",
         "2023",
         "10",
         "Strongly Disagree",
         "Status updates were unhelpful, inaccurate, incomplete, and/or confusing.",
         "Delays in inspections or provision of construction materials.",
         "3",
         "Delays in inspections or provision of construction materials.Status updates were unhelpful, inaccurate, incomplete, and/or confusing.",
         "0.0",
         "neutral"
        ]
       ],
       "shape": {
        "columns": 14,
        "rows": 5
       }
      },
      "text/html": [
       "<div>\n",
       "<style scoped>\n",
       "    .dataframe tbody tr th:only-of-type {\n",
       "        vertical-align: middle;\n",
       "    }\n",
       "\n",
       "    .dataframe tbody tr th {\n",
       "        vertical-align: top;\n",
       "    }\n",
       "\n",
       "    .dataframe thead th {\n",
       "        text-align: right;\n",
       "    }\n",
       "</style>\n",
       "<table border=\"1\" class=\"dataframe\">\n",
       "  <thead>\n",
       "    <tr style=\"text-align: right;\">\n",
       "      <th></th>\n",
       "      <th>Agency Name</th>\n",
       "      <th>Complaint Type</th>\n",
       "      <th>Descriptor</th>\n",
       "      <th>Borough</th>\n",
       "      <th>Resolution Description</th>\n",
       "      <th>Survey Year</th>\n",
       "      <th>Survey Month</th>\n",
       "      <th>Satisfaction Response</th>\n",
       "      <th>Dissatisfaction Reason</th>\n",
       "      <th>Justified Dissatisfaction</th>\n",
       "      <th>Cluster</th>\n",
       "      <th>Combined_Feedback</th>\n",
       "      <th>Sentiment Score</th>\n",
       "      <th>Sentiment Label</th>\n",
       "    </tr>\n",
       "  </thead>\n",
       "  <tbody>\n",
       "    <tr>\n",
       "      <th>0</th>\n",
       "      <td>Department of Buildings</td>\n",
       "      <td>Adult Establishment</td>\n",
       "      <td>Zoning Violation</td>\n",
       "      <td>MANHATTAN</td>\n",
       "      <td>The Department of Buildings investigated this ...</td>\n",
       "      <td>2022</td>\n",
       "      <td>10</td>\n",
       "      <td>Strongly Agree</td>\n",
       "      <td>Not Applicable</td>\n",
       "      <td>Delays in inspections or provision of construc...</td>\n",
       "      <td>0</td>\n",
       "      <td>Delays in inspections or provision of construc...</td>\n",
       "      <td>0.0000</td>\n",
       "      <td>neutral</td>\n",
       "    </tr>\n",
       "    <tr>\n",
       "      <th>1</th>\n",
       "      <td>Department of Buildings</td>\n",
       "      <td>Adult Establishment</td>\n",
       "      <td>Zoning Violation</td>\n",
       "      <td>BROOKLYN</td>\n",
       "      <td>The Department of Buildings investigated this ...</td>\n",
       "      <td>2024</td>\n",
       "      <td>11</td>\n",
       "      <td>Strongly Disagree</td>\n",
       "      <td>The Agency did not correct the issue.</td>\n",
       "      <td>Delays in inspections or provision of construc...</td>\n",
       "      <td>1</td>\n",
       "      <td>Delays in inspections or provision of construc...</td>\n",
       "      <td>0.0000</td>\n",
       "      <td>neutral</td>\n",
       "    </tr>\n",
       "    <tr>\n",
       "      <th>2</th>\n",
       "      <td>Department for the Aging</td>\n",
       "      <td>Legal Services Provider Complaint</td>\n",
       "      <td>Not Provided</td>\n",
       "      <td>MANHATTAN</td>\n",
       "      <td>The Department for the Aging contacted you and...</td>\n",
       "      <td>2024</td>\n",
       "      <td>3</td>\n",
       "      <td>Strongly Agree</td>\n",
       "      <td>Not Applicable</td>\n",
       "      <td>Lack of timely support or services for senior ...</td>\n",
       "      <td>0</td>\n",
       "      <td>Lack of timely support or services for senior ...</td>\n",
       "      <td>0.1027</td>\n",
       "      <td>positive</td>\n",
       "    </tr>\n",
       "    <tr>\n",
       "      <th>3</th>\n",
       "      <td>Department of Buildings</td>\n",
       "      <td>Advertising Sign</td>\n",
       "      <td>Poster</td>\n",
       "      <td>MANHATTAN</td>\n",
       "      <td>The Department of Buildings reviewed this comp...</td>\n",
       "      <td>2024</td>\n",
       "      <td>2</td>\n",
       "      <td>Neutral</td>\n",
       "      <td>Not Applicable</td>\n",
       "      <td>Delays in inspections or provision of construc...</td>\n",
       "      <td>0</td>\n",
       "      <td>Delays in inspections or provision of construc...</td>\n",
       "      <td>0.0000</td>\n",
       "      <td>neutral</td>\n",
       "    </tr>\n",
       "    <tr>\n",
       "      <th>4</th>\n",
       "      <td>Department of Buildings</td>\n",
       "      <td>Advertising Sign</td>\n",
       "      <td>Billboard</td>\n",
       "      <td>MANHATTAN</td>\n",
       "      <td>The Department of Buildings investigated this ...</td>\n",
       "      <td>2023</td>\n",
       "      <td>10</td>\n",
       "      <td>Strongly Disagree</td>\n",
       "      <td>Status updates were unhelpful, inaccurate, inc...</td>\n",
       "      <td>Delays in inspections or provision of construc...</td>\n",
       "      <td>3</td>\n",
       "      <td>Delays in inspections or provision of construc...</td>\n",
       "      <td>0.0000</td>\n",
       "      <td>neutral</td>\n",
       "    </tr>\n",
       "  </tbody>\n",
       "</table>\n",
       "</div>"
      ],
      "text/plain": [
       "                Agency Name                     Complaint Type  \\\n",
       "0   Department of Buildings                Adult Establishment   \n",
       "1   Department of Buildings                Adult Establishment   \n",
       "2  Department for the Aging  Legal Services Provider Complaint   \n",
       "3   Department of Buildings                   Advertising Sign   \n",
       "4   Department of Buildings                   Advertising Sign   \n",
       "\n",
       "         Descriptor    Borough  \\\n",
       "0  Zoning Violation  MANHATTAN   \n",
       "1  Zoning Violation   BROOKLYN   \n",
       "2      Not Provided  MANHATTAN   \n",
       "3            Poster  MANHATTAN   \n",
       "4         Billboard  MANHATTAN   \n",
       "\n",
       "                              Resolution Description  Survey Year  \\\n",
       "0  The Department of Buildings investigated this ...         2022   \n",
       "1  The Department of Buildings investigated this ...         2024   \n",
       "2  The Department for the Aging contacted you and...         2024   \n",
       "3  The Department of Buildings reviewed this comp...         2024   \n",
       "4  The Department of Buildings investigated this ...         2023   \n",
       "\n",
       "   Survey Month Satisfaction Response  \\\n",
       "0            10        Strongly Agree   \n",
       "1            11     Strongly Disagree   \n",
       "2             3        Strongly Agree   \n",
       "3             2               Neutral   \n",
       "4            10     Strongly Disagree   \n",
       "\n",
       "                              Dissatisfaction Reason  \\\n",
       "0                                     Not Applicable   \n",
       "1              The Agency did not correct the issue.   \n",
       "2                                     Not Applicable   \n",
       "3                                     Not Applicable   \n",
       "4  Status updates were unhelpful, inaccurate, inc...   \n",
       "\n",
       "                           Justified Dissatisfaction  Cluster  \\\n",
       "0  Delays in inspections or provision of construc...        0   \n",
       "1  Delays in inspections or provision of construc...        1   \n",
       "2  Lack of timely support or services for senior ...        0   \n",
       "3  Delays in inspections or provision of construc...        0   \n",
       "4  Delays in inspections or provision of construc...        3   \n",
       "\n",
       "                                   Combined_Feedback  Sentiment Score  \\\n",
       "0  Delays in inspections or provision of construc...           0.0000   \n",
       "1  Delays in inspections or provision of construc...           0.0000   \n",
       "2  Lack of timely support or services for senior ...           0.1027   \n",
       "3  Delays in inspections or provision of construc...           0.0000   \n",
       "4  Delays in inspections or provision of construc...           0.0000   \n",
       "\n",
       "  Sentiment Label  \n",
       "0         neutral  \n",
       "1         neutral  \n",
       "2        positive  \n",
       "3         neutral  \n",
       "4         neutral  "
      ]
     },
     "execution_count": 3,
     "metadata": {},
     "output_type": "execute_result"
    }
   ],
   "source": [
    "# Load and prepare data\n",
    "df = pd.read_csv('eda_incl.csv')  \n",
    "df.head()"
   ]
  },
  {
   "cell_type": "code",
   "execution_count": 4,
   "id": "fe0ab252",
   "metadata": {},
   "outputs": [],
   "source": [
    "# # Check for duplicate columns\n",
    "# df1_cols = set(df1.columns)\n",
    "# df2_cols = set(df2.columns)\n",
    "# common_cols = df1_cols.intersection(df2_cols)\n",
    "# print(f\"Common columns: {common_cols}\")\n"
   ]
  },
  {
   "cell_type": "code",
   "execution_count": 5,
   "id": "32b5a937",
   "metadata": {},
   "outputs": [],
   "source": [
    "# # Combine df1 and df2 \n",
    "# # Get unique columns from df2 that aren't in df1\n",
    "# df2_unique_cols = [col for col in df2.columns if col not in df1.columns]\n",
    "\n",
    "# # Merge on all common columns\n",
    "# common_cols = list(set(df1.columns).intersection(set(df2.columns)))\n",
    "# merged_df = pd.merge(df1, df2[common_cols + df2_unique_cols], on=common_cols, how='outer')\n",
    "\n",
    "# merged_df.head()"
   ]
  },
  {
   "cell_type": "code",
   "execution_count": 6,
   "id": "f5635195",
   "metadata": {},
   "outputs": [],
   "source": [
    "# merged_df.shape"
   ]
  },
  {
   "cell_type": "code",
   "execution_count": 7,
   "id": "0d28a8b8",
   "metadata": {},
   "outputs": [],
   "source": [
    "# Create binary target: 1 for satisfied (Strongly Agree, Agree), 0 for not satisfied\n",
    "df['Satisfied'] = df['Satisfaction Response'].apply(\n",
    "    lambda x: 1 if x in ['Strongly Agree', 'Agree'] else 0\n",
    ")"
   ]
  },
  {
   "cell_type": "code",
   "execution_count": 8,
   "id": "fcfdb40b",
   "metadata": {},
   "outputs": [],
   "source": [
    "# Select optimal features based on df2 structure\n",
    "features = ['Agency Name', 'Complaint Type', 'Borough', 'Survey Year', \n",
    "           'Survey Month', 'Cluster', 'Sentiment Score']\n",
    "\n",
    "X = df[features].copy()\n",
    "y = df['Satisfied']"
   ]
  },
  {
   "cell_type": "code",
   "execution_count": 9,
   "id": "0227dcf4",
   "metadata": {},
   "outputs": [],
   "source": [
    "# Encode categorical variables\n",
    "le_dict = {}\n",
    "for col in X.select_dtypes(include=['object']).columns:\n",
    "    le = LabelEncoder()\n",
    "    X[col] = le.fit_transform(X[col].astype(str))\n",
    "    le_dict[col] = le"
   ]
  },
  {
   "cell_type": "code",
   "execution_count": 10,
   "id": "dd9eae35",
   "metadata": {},
   "outputs": [],
   "source": [
    "# Split data\n",
    "X_train, X_test, y_train, y_test = train_test_split(X, y, test_size=0.2, random_state=42, stratify=y)"
   ]
  },
  {
   "cell_type": "code",
   "execution_count": 11,
   "id": "64336c54",
   "metadata": {},
   "outputs": [
    {
     "data": {
      "text/html": [
       "<style>#sk-container-id-1 {color: black;}#sk-container-id-1 pre{padding: 0;}#sk-container-id-1 div.sk-toggleable {background-color: white;}#sk-container-id-1 label.sk-toggleable__label {cursor: pointer;display: block;width: 100%;margin-bottom: 0;padding: 0.3em;box-sizing: border-box;text-align: center;}#sk-container-id-1 label.sk-toggleable__label-arrow:before {content: \"▸\";float: left;margin-right: 0.25em;color: #696969;}#sk-container-id-1 label.sk-toggleable__label-arrow:hover:before {color: black;}#sk-container-id-1 div.sk-estimator:hover label.sk-toggleable__label-arrow:before {color: black;}#sk-container-id-1 div.sk-toggleable__content {max-height: 0;max-width: 0;overflow: hidden;text-align: left;background-color: #f0f8ff;}#sk-container-id-1 div.sk-toggleable__content pre {margin: 0.2em;color: black;border-radius: 0.25em;background-color: #f0f8ff;}#sk-container-id-1 input.sk-toggleable__control:checked~div.sk-toggleable__content {max-height: 200px;max-width: 100%;overflow: auto;}#sk-container-id-1 input.sk-toggleable__control:checked~label.sk-toggleable__label-arrow:before {content: \"▾\";}#sk-container-id-1 div.sk-estimator input.sk-toggleable__control:checked~label.sk-toggleable__label {background-color: #d4ebff;}#sk-container-id-1 div.sk-label input.sk-toggleable__control:checked~label.sk-toggleable__label {background-color: #d4ebff;}#sk-container-id-1 input.sk-hidden--visually {border: 0;clip: rect(1px 1px 1px 1px);clip: rect(1px, 1px, 1px, 1px);height: 1px;margin: -1px;overflow: hidden;padding: 0;position: absolute;width: 1px;}#sk-container-id-1 div.sk-estimator {font-family: monospace;background-color: #f0f8ff;border: 1px dotted black;border-radius: 0.25em;box-sizing: border-box;margin-bottom: 0.5em;}#sk-container-id-1 div.sk-estimator:hover {background-color: #d4ebff;}#sk-container-id-1 div.sk-parallel-item::after {content: \"\";width: 100%;border-bottom: 1px solid gray;flex-grow: 1;}#sk-container-id-1 div.sk-label:hover label.sk-toggleable__label {background-color: #d4ebff;}#sk-container-id-1 div.sk-serial::before {content: \"\";position: absolute;border-left: 1px solid gray;box-sizing: border-box;top: 0;bottom: 0;left: 50%;z-index: 0;}#sk-container-id-1 div.sk-serial {display: flex;flex-direction: column;align-items: center;background-color: white;padding-right: 0.2em;padding-left: 0.2em;position: relative;}#sk-container-id-1 div.sk-item {position: relative;z-index: 1;}#sk-container-id-1 div.sk-parallel {display: flex;align-items: stretch;justify-content: center;background-color: white;position: relative;}#sk-container-id-1 div.sk-item::before, #sk-container-id-1 div.sk-parallel-item::before {content: \"\";position: absolute;border-left: 1px solid gray;box-sizing: border-box;top: 0;bottom: 0;left: 50%;z-index: -1;}#sk-container-id-1 div.sk-parallel-item {display: flex;flex-direction: column;z-index: 1;position: relative;background-color: white;}#sk-container-id-1 div.sk-parallel-item:first-child::after {align-self: flex-end;width: 50%;}#sk-container-id-1 div.sk-parallel-item:last-child::after {align-self: flex-start;width: 50%;}#sk-container-id-1 div.sk-parallel-item:only-child::after {width: 0;}#sk-container-id-1 div.sk-dashed-wrapped {border: 1px dashed gray;margin: 0 0.4em 0.5em 0.4em;box-sizing: border-box;padding-bottom: 0.4em;background-color: white;}#sk-container-id-1 div.sk-label label {font-family: monospace;font-weight: bold;display: inline-block;line-height: 1.2em;}#sk-container-id-1 div.sk-label-container {text-align: center;}#sk-container-id-1 div.sk-container {/* jupyter's `normalize.less` sets `[hidden] { display: none; }` but bootstrap.min.css set `[hidden] { display: none !important; }` so we also need the `!important` here to be able to override the default hidden behavior on the sphinx rendered scikit-learn.org. See: https://github.com/scikit-learn/scikit-learn/issues/21755 */display: inline-block !important;position: relative;}#sk-container-id-1 div.sk-text-repr-fallback {display: none;}</style><div id=\"sk-container-id-1\" class=\"sk-top-container\"><div class=\"sk-text-repr-fallback\"><pre>RandomForestClassifier(random_state=42)</pre><b>In a Jupyter environment, please rerun this cell to show the HTML representation or trust the notebook. <br />On GitHub, the HTML representation is unable to render, please try loading this page with nbviewer.org.</b></div><div class=\"sk-container\" hidden><div class=\"sk-item\"><div class=\"sk-estimator sk-toggleable\"><input class=\"sk-toggleable__control sk-hidden--visually\" id=\"sk-estimator-id-1\" type=\"checkbox\" checked><label for=\"sk-estimator-id-1\" class=\"sk-toggleable__label sk-toggleable__label-arrow\">RandomForestClassifier</label><div class=\"sk-toggleable__content\"><pre>RandomForestClassifier(random_state=42)</pre></div></div></div></div></div>"
      ],
      "text/plain": [
       "RandomForestClassifier(random_state=42)"
      ]
     },
     "execution_count": 11,
     "metadata": {},
     "output_type": "execute_result"
    }
   ],
   "source": [
    "# Train Random Forest (best for this type of data)\n",
    "clf = RandomForestClassifier(n_estimators=100, random_state=42)\n",
    "clf.fit(X_train, y_train)"
   ]
  },
  {
   "cell_type": "code",
   "execution_count": 24,
   "id": "1aa28e3e",
   "metadata": {},
   "outputs": [
    {
     "name": "stdout",
     "output_type": "stream",
     "text": [
      "Recall: 0.983\n",
      "F1 Score: 0.926\n",
      "AUC Score: 0.971\n"
     ]
    }
   ],
   "source": [
    "# Evaluate\n",
    "y_pred = clf.predict(X_test)\n",
    "y_pred_proba = clf.predict_proba(X_test)[:, 1]\n",
    "\n",
    "print(f\"Recall: {recall_score(y_test, y_pred):.3f}\")\n",
    "print(f\"F1 Score: {f1_score(y_test, y_pred):.3f}\")\n",
    "print(f\"AUC Score: {roc_auc_score(y_test, y_pred_proba):.3f}\")"
   ]
  },
  {
   "cell_type": "code",
   "execution_count": 23,
   "id": "6276f7f7",
   "metadata": {},
   "outputs": [
    {
     "name": "stdout",
     "output_type": "stream",
     "text": [
      "Classification Report:\n",
      "               precision    recall  f1-score   support\n",
      "\n",
      "Not Satisfied       0.99      0.93      0.96     48544\n",
      "    Satisfied       0.88      0.98      0.93     24394\n",
      "\n",
      "     accuracy                           0.95     72938\n",
      "    macro avg       0.93      0.96      0.94     72938\n",
      " weighted avg       0.95      0.95      0.95     72938\n",
      "\n"
     ]
    }
   ],
   "source": [
    "print(\"Classification Report:\")\n",
    "print(classification_report(y_test, y_pred, target_names=['Not Satisfied', 'Satisfied']))"
   ]
  },
  {
   "cell_type": "code",
   "execution_count": 13,
   "id": "e20c7ed6",
   "metadata": {},
   "outputs": [
    {
     "name": "stdout",
     "output_type": "stream",
     "text": [
      "\n",
      "Top Features:\n",
      "Cluster            0.907347\n",
      "Complaint Type     0.035440\n",
      "Survey Month       0.017973\n",
      "Sentiment Score    0.015016\n",
      "Borough            0.009906\n",
      "dtype: float64\n"
     ]
    }
   ],
   "source": [
    "# Feature importance\n",
    "feat_importances = pd.Series(clf.feature_importances_, index=features)\n",
    "print(\"\\nTop Features:\")\n",
    "print(feat_importances.nlargest(5))"
   ]
  },
  {
   "cell_type": "markdown",
   "id": "key_insights",
   "metadata": {},
   "source": [
    "### Key Steps Summary:\n",
    "\n",
    "1. **Data Preparation**: Load data, handle categorical variables, split into train/test\n",
    "2. **Model Training**: Train multiple classification models (Logistic Regression, Random Forest, Gradient Boosting)\n",
    "3. **Performance Evaluation**: Compare models using recall, F1, and AUC scores\n",
    "4. **Model Explanation**: Use SHAP for global feature importance and LIME for local explanations\n",
    "5. **Performance Monitoring**: Visualize and track model performance metrics\n",
    "\n",
    "**Next Steps:**\n",
    "- Uncomment and adapt the code with your actual data\n",
    "- Replace placeholder column names with your actual feature and target columns\n",
    "- Consider hyperparameter tuning for the best performing model\n",
    "- Analyze SHAP/LIME results to identify key satisfaction drivers"
   ]
  }
 ],
 "metadata": {
  "kernelspec": {
   "display_name": "learn-env",
   "language": "python",
   "name": "python3"
  },
  "language_info": {
   "codemirror_mode": {
    "name": "ipython",
    "version": 3
   },
   "file_extension": ".py",
   "mimetype": "text/x-python",
   "name": "python",
   "nbconvert_exporter": "python",
   "pygments_lexer": "ipython3",
   "version": "3.8.5"
  }
 },
 "nbformat": 4,
 "nbformat_minor": 5
}
