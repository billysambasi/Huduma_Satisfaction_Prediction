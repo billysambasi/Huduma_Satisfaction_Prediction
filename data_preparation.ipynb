{
 "cells": [
  {
   "cell_type": "markdown",
   "id": "a1dc63a3",
   "metadata": {},
   "source": [
    "## Data Preparation\n",
    "\n",
    "### Analysis Objectives\n",
    "- To analyze patterns and trends in citizen feedback across different government services and agencies.\n",
    "- To assess the overall levels of satisfaction expressed by citizens in response to service resolutions.\n",
    "- To determine the sentiment polarity of textual feedback to understand the emotional tone behind citizen responses.\n",
    "\n",
    "### Feature Engineering Objectives\n",
    "- Extract complaint categories and keywords from descriptions.\n",
    "- Vectorize resolution text into sentiment, topic clusters or TF-IDF features.\n",
    "- Encode categorical features such as agency, borough and complaint type.\n",
    "- Create a binary satisfaction variable for classification modeling."
   ]
  },
  {
   "cell_type": "markdown",
   "id": "eb84a1fe",
   "metadata": {},
   "source": [
    "Unsupervised Clustering on 'Dissatisfaction Reason'\n",
    "Objective: Extract clusters of dissatisfaction from citizen feedback and optionally enhance with supervised prediction.\n",
    "\n",
    "Techniques: NLP, Clustering, Pipelines, Object-Oriented Programming"
   ]
  },
  {
   "cell_type": "code",
   "execution_count": 1,
   "id": "256aec50",
   "metadata": {},
   "outputs": [
    {
     "name": "stderr",
     "output_type": "stream",
     "text": [
      "c:\\Users\\User\\anaconda3\\envs\\learn-env\\lib\\site-packages\\numpy\\_distributor_init.py:30: UserWarning: loaded more than 1 DLL from .libs:\n",
      "c:\\Users\\User\\anaconda3\\envs\\learn-env\\lib\\site-packages\\numpy\\.libs\\libopenblas.PYQHXLVVQ7VESDPUVUADXEVJOBGHJPAY.gfortran-win_amd64.dll\n",
      "c:\\Users\\User\\anaconda3\\envs\\learn-env\\lib\\site-packages\\numpy\\.libs\\libopenblas64__v0.3.21-gcc_10_3_0.dll\n",
      "  warnings.warn(\"loaded more than 1 DLL from .libs:\"\n"
     ]
    }
   ],
   "source": [
    "# Importing libraries\n",
    "import pandas as pd\n",
    "import numpy as np\n",
    "import matplotlib.pyplot as plt\n",
    "import seaborn as sns\n",
    "%matplotlib inline\n",
    "# Importing necessary modelling libraries\n",
    "from sklearn.pipeline import Pipeline\n",
    "from sklearn.base import BaseEstimator, TransformerMixin\n",
    "from sklearn.feature_extraction.text import TfidfVectorizer\n",
    "from sklearn.decomposition import TruncatedSVD\n",
    "from sklearn.cluster import KMeans\n",
    "from sklearn.preprocessing import LabelEncoder\n",
    "from sklearn.ensemble import RandomForestClassifier\n",
    "from sklearn.model_selection import train_test_split\n",
    "from sklearn.linear_model import LogisticRegression\n",
    "from sklearn.compose import ColumnTransformer\n",
    "from sklearn.preprocessing import OneHotEncoder\n",
    "from sklearn.metrics import classification_report\n",
    "import warnings\n",
    "warnings.filterwarnings(\"ignore\")\n",
    "# Importing NLP libraries \n",
    "import re\n",
    "import string\n",
    "import nltk\n",
    "from nltk.corpus import stopwords\n",
    "from nltk.stem import PorterStemmer"
   ]
  },
  {
   "cell_type": "markdown",
   "id": "c45d9efd",
   "metadata": {},
   "source": [
    "## Data Understanding\n",
    "\n",
    "### Data Description\n",
    "\n",
    "Citizens who submit service requests through the 311 system in New York City are invited to give feedback on how their issue was resolved. Each survey response includes satisfaction ratings and details of the original request. In Kenya, this mirrors platforms like Huduma Kenya and eCitizen, where citizens engage government services. Such feedback helps improve service delivery, accountability and responsiveness across public agencies.\n",
    "\n",
    "[Data Source](<https://catalog.data.gov/dataset/311-resolution-satisfaction-survey-e4003>)\n",
    "\n",
    "### Description of Features\n",
    "\n",
    "- `Unique Key`: A unique identifier for each service request or complaint record.\n",
    "- `Agency Acronym`: The abbreviated name of the public agency responsible for handling the service request.\n",
    "- `Agency Name`: The full name of the government agency responsible for the resolution of the reported issue.\n",
    "- `Complaint Type`: The category or general type of the complaint lodged by the citizen. \n",
    "- `Descriptor`: A more specific detail of the complaint. \n",
    "- `Borough`: The New York City borough where the complaint was filed or the service was rendered.\n",
    "- `Resolution Description`: A brief narrative or system-generated explanation of how the agency responded to or resolved the complaint.\n",
    "- `Survey Year`: The year in which the follow-up survey or feedback was collected from the complainant.\n",
    "- `Survey Month`: The month in which the survey response was submitted. \n",
    "- `Satisfaction Response`: The citizen’s level of satisfaction with how the agency handled the complaint.\n",
    "- `Dissatisfaction Reason`: An open-ended or predefined text field capturing the citizen's reason for dissatisfaction\n",
    "\n",
    ", **only present when satisfaction is low** (e.g., \"Strongly Disagree\"). May contain valuable feedback for clustering or sentiment analysis."
   ]
  },
  {
   "cell_type": "code",
   "execution_count": 2,
   "id": "f7d964f9",
   "metadata": {},
   "outputs": [
    {
     "data": {
      "application/vnd.microsoft.datawrangler.viewer.v0+json": {
       "columns": [
        {
         "name": "index",
         "rawType": "int64",
         "type": "integer"
        },
        {
         "name": "Unique Key",
         "rawType": "object",
         "type": "string"
        },
        {
         "name": "Agency Acronym",
         "rawType": "object",
         "type": "string"
        },
        {
         "name": "Agency Name",
         "rawType": "object",
         "type": "string"
        },
        {
         "name": "Complaint Type",
         "rawType": "object",
         "type": "string"
        },
        {
         "name": "Descriptor",
         "rawType": "object",
         "type": "unknown"
        },
        {
         "name": "Borough",
         "rawType": "object",
         "type": "string"
        },
        {
         "name": "Resolution Description",
         "rawType": "object",
         "type": "string"
        },
        {
         "name": "Survey Year",
         "rawType": "int64",
         "type": "integer"
        },
        {
         "name": "Survey Month",
         "rawType": "int64",
         "type": "integer"
        },
        {
         "name": "Satisfaction Response",
         "rawType": "object",
         "type": "string"
        },
        {
         "name": "Dissatisfaction Reason",
         "rawType": "object",
         "type": "unknown"
        }
       ],
       "ref": "5028de0e-012f-48a0-a73d-02e080db3e8b",
       "rows": [
        [
         "0",
         "16657800-00015172",
         "DOB",
         "Department of Buildings",
         "Adult Establishment",
         "Zoning Violation",
         "MANHATTAN",
         "The Department of Buildings investigated this complaint and determined that no further action was necessary.",
         "2022",
         "10",
         "Strongly Agree",
         null
        ],
        [
         "1",
         "58524985-00281320",
         "DOB",
         "Department of Buildings",
         "Adult Establishment",
         "Zoning Violation",
         "BROOKLYN",
         "The Department of Buildings investigated this complaint and determined that no further action was necessary.",
         "2024",
         "11",
         "Strongly Disagree",
         "The Agency did not correct the issue."
        ],
        [
         "2",
         "75073480-00178242",
         "DFTA",
         "Department for the Aging",
         "Legal Services Provider Complaint",
         null,
         "MANHATTAN",
         "The Department for the Aging contacted you and provided the assistance requested. No further updates will be available through 311. If further assistance is needed, please open a new Service Request.",
         "2024",
         "3",
         "Strongly Agree",
         null
        ],
        [
         "3",
         "46435198-00170848",
         "DOB",
         "Department of Buildings",
         "Advertising Sign",
         "Poster",
         "MANHATTAN",
         "The Department of Buildings reviewed this complaint and referred it to the Department of Sanitation for further action.",
         "2024",
         "2",
         "Neutral",
         null
        ],
        [
         "4",
         "40782130-00128055",
         "DOB",
         "Department of Buildings",
         "Advertising Sign",
         "Billboard",
         "MANHATTAN",
         "The Department of Buildings investigated this complaint and determined that no further action was necessary.",
         "2023",
         "10",
         "Strongly Disagree",
         "Status updates were unhelpful, inaccurate, incomplete, and/or confusing."
        ]
       ],
       "shape": {
        "columns": 11,
        "rows": 5
       }
      },
      "text/html": [
       "<div>\n",
       "<style scoped>\n",
       "    .dataframe tbody tr th:only-of-type {\n",
       "        vertical-align: middle;\n",
       "    }\n",
       "\n",
       "    .dataframe tbody tr th {\n",
       "        vertical-align: top;\n",
       "    }\n",
       "\n",
       "    .dataframe thead th {\n",
       "        text-align: right;\n",
       "    }\n",
       "</style>\n",
       "<table border=\"1\" class=\"dataframe\">\n",
       "  <thead>\n",
       "    <tr style=\"text-align: right;\">\n",
       "      <th></th>\n",
       "      <th>Unique Key</th>\n",
       "      <th>Agency Acronym</th>\n",
       "      <th>Agency Name</th>\n",
       "      <th>Complaint Type</th>\n",
       "      <th>Descriptor</th>\n",
       "      <th>Borough</th>\n",
       "      <th>Resolution Description</th>\n",
       "      <th>Survey Year</th>\n",
       "      <th>Survey Month</th>\n",
       "      <th>Satisfaction Response</th>\n",
       "      <th>Dissatisfaction Reason</th>\n",
       "    </tr>\n",
       "  </thead>\n",
       "  <tbody>\n",
       "    <tr>\n",
       "      <th>0</th>\n",
       "      <td>16657800-00015172</td>\n",
       "      <td>DOB</td>\n",
       "      <td>Department of Buildings</td>\n",
       "      <td>Adult Establishment</td>\n",
       "      <td>Zoning Violation</td>\n",
       "      <td>MANHATTAN</td>\n",
       "      <td>The Department of Buildings investigated this ...</td>\n",
       "      <td>2022</td>\n",
       "      <td>10</td>\n",
       "      <td>Strongly Agree</td>\n",
       "      <td>NaN</td>\n",
       "    </tr>\n",
       "    <tr>\n",
       "      <th>1</th>\n",
       "      <td>58524985-00281320</td>\n",
       "      <td>DOB</td>\n",
       "      <td>Department of Buildings</td>\n",
       "      <td>Adult Establishment</td>\n",
       "      <td>Zoning Violation</td>\n",
       "      <td>BROOKLYN</td>\n",
       "      <td>The Department of Buildings investigated this ...</td>\n",
       "      <td>2024</td>\n",
       "      <td>11</td>\n",
       "      <td>Strongly Disagree</td>\n",
       "      <td>The Agency did not correct the issue.</td>\n",
       "    </tr>\n",
       "    <tr>\n",
       "      <th>2</th>\n",
       "      <td>75073480-00178242</td>\n",
       "      <td>DFTA</td>\n",
       "      <td>Department for the Aging</td>\n",
       "      <td>Legal Services Provider Complaint</td>\n",
       "      <td>NaN</td>\n",
       "      <td>MANHATTAN</td>\n",
       "      <td>The Department for the Aging contacted you and...</td>\n",
       "      <td>2024</td>\n",
       "      <td>3</td>\n",
       "      <td>Strongly Agree</td>\n",
       "      <td>NaN</td>\n",
       "    </tr>\n",
       "    <tr>\n",
       "      <th>3</th>\n",
       "      <td>46435198-00170848</td>\n",
       "      <td>DOB</td>\n",
       "      <td>Department of Buildings</td>\n",
       "      <td>Advertising Sign</td>\n",
       "      <td>Poster</td>\n",
       "      <td>MANHATTAN</td>\n",
       "      <td>The Department of Buildings reviewed this comp...</td>\n",
       "      <td>2024</td>\n",
       "      <td>2</td>\n",
       "      <td>Neutral</td>\n",
       "      <td>NaN</td>\n",
       "    </tr>\n",
       "    <tr>\n",
       "      <th>4</th>\n",
       "      <td>40782130-00128055</td>\n",
       "      <td>DOB</td>\n",
       "      <td>Department of Buildings</td>\n",
       "      <td>Advertising Sign</td>\n",
       "      <td>Billboard</td>\n",
       "      <td>MANHATTAN</td>\n",
       "      <td>The Department of Buildings investigated this ...</td>\n",
       "      <td>2023</td>\n",
       "      <td>10</td>\n",
       "      <td>Strongly Disagree</td>\n",
       "      <td>Status updates were unhelpful, inaccurate, inc...</td>\n",
       "    </tr>\n",
       "  </tbody>\n",
       "</table>\n",
       "</div>"
      ],
      "text/plain": [
       "          Unique Key Agency Acronym               Agency Name  \\\n",
       "0  16657800-00015172            DOB   Department of Buildings   \n",
       "1  58524985-00281320            DOB   Department of Buildings   \n",
       "2  75073480-00178242           DFTA  Department for the Aging   \n",
       "3  46435198-00170848            DOB   Department of Buildings   \n",
       "4  40782130-00128055            DOB   Department of Buildings   \n",
       "\n",
       "                      Complaint Type        Descriptor    Borough  \\\n",
       "0                Adult Establishment  Zoning Violation  MANHATTAN   \n",
       "1                Adult Establishment  Zoning Violation   BROOKLYN   \n",
       "2  Legal Services Provider Complaint               NaN  MANHATTAN   \n",
       "3                   Advertising Sign            Poster  MANHATTAN   \n",
       "4                   Advertising Sign         Billboard  MANHATTAN   \n",
       "\n",
       "                              Resolution Description  Survey Year  \\\n",
       "0  The Department of Buildings investigated this ...         2022   \n",
       "1  The Department of Buildings investigated this ...         2024   \n",
       "2  The Department for the Aging contacted you and...         2024   \n",
       "3  The Department of Buildings reviewed this comp...         2024   \n",
       "4  The Department of Buildings investigated this ...         2023   \n",
       "\n",
       "   Survey Month Satisfaction Response  \\\n",
       "0            10        Strongly Agree   \n",
       "1            11     Strongly Disagree   \n",
       "2             3        Strongly Agree   \n",
       "3             2               Neutral   \n",
       "4            10     Strongly Disagree   \n",
       "\n",
       "                              Dissatisfaction Reason  \n",
       "0                                                NaN  \n",
       "1              The Agency did not correct the issue.  \n",
       "2                                                NaN  \n",
       "3                                                NaN  \n",
       "4  Status updates were unhelpful, inaccurate, inc...  "
      ]
     },
     "execution_count": 2,
     "metadata": {},
     "output_type": "execute_result"
    }
   ],
   "source": [
    "# Loading the data into a dataframe\n",
    "df = pd.read_csv(\"311_Resolution_Satisfaction_Survey.csv\")\n",
    "df.head()"
   ]
  },
  {
   "cell_type": "code",
   "execution_count": 3,
   "id": "1fb53a27",
   "metadata": {},
   "outputs": [
    {
     "name": "stdout",
     "output_type": "stream",
     "text": [
      "<class 'pandas.core.frame.DataFrame'>\n",
      "RangeIndex: 364689 entries, 0 to 364688\n",
      "Data columns (total 11 columns):\n",
      " #   Column                  Non-Null Count   Dtype \n",
      "---  ------                  --------------   ----- \n",
      " 0   Unique Key              364689 non-null  object\n",
      " 1   Agency Acronym          364689 non-null  object\n",
      " 2   Agency Name             364595 non-null  object\n",
      " 3   Complaint Type          364689 non-null  object\n",
      " 4   Descriptor              351714 non-null  object\n",
      " 5   Borough                 364251 non-null  object\n",
      " 6   Resolution Description  362933 non-null  object\n",
      " 7   Survey Year             364689 non-null  int64 \n",
      " 8   Survey Month            364689 non-null  int64 \n",
      " 9   Satisfaction Response   364689 non-null  object\n",
      " 10  Dissatisfaction Reason  224612 non-null  object\n",
      "dtypes: int64(2), object(9)\n",
      "memory usage: 30.6+ MB\n"
     ]
    }
   ],
   "source": [
    "df.info()"
   ]
  },
  {
   "cell_type": "code",
   "execution_count": 4,
   "id": "dd03b079",
   "metadata": {},
   "outputs": [
    {
     "data": {
      "text/plain": [
       "(364689, 11)"
      ]
     },
     "execution_count": 4,
     "metadata": {},
     "output_type": "execute_result"
    }
   ],
   "source": [
    "df.shape"
   ]
  },
  {
   "cell_type": "code",
   "execution_count": 5,
   "id": "1f9be558",
   "metadata": {},
   "outputs": [
    {
     "data": {
      "application/vnd.microsoft.datawrangler.viewer.v0+json": {
       "columns": [
        {
         "name": "index",
         "rawType": "object",
         "type": "string"
        },
        {
         "name": "Survey Year",
         "rawType": "float64",
         "type": "float"
        },
        {
         "name": "Survey Month",
         "rawType": "float64",
         "type": "float"
        }
       ],
       "ref": "c5a512b6-01c5-4c12-ae64-0b1ae225df75",
       "rows": [
        [
         "count",
         "364689.0",
         "364689.0"
        ],
        [
         "mean",
         "2023.7254016435922",
         "6.228951243388202"
        ],
        [
         "std",
         "0.921018731312391",
         "3.590012249234015"
        ],
        [
         "min",
         "2022.0",
         "1.0"
        ],
        [
         "25%",
         "2023.0",
         "3.0"
        ],
        [
         "50%",
         "2024.0",
         "6.0"
        ],
        [
         "75%",
         "2024.0",
         "10.0"
        ],
        [
         "max",
         "2025.0",
         "12.0"
        ]
       ],
       "shape": {
        "columns": 2,
        "rows": 8
       }
      },
      "text/html": [
       "<div>\n",
       "<style scoped>\n",
       "    .dataframe tbody tr th:only-of-type {\n",
       "        vertical-align: middle;\n",
       "    }\n",
       "\n",
       "    .dataframe tbody tr th {\n",
       "        vertical-align: top;\n",
       "    }\n",
       "\n",
       "    .dataframe thead th {\n",
       "        text-align: right;\n",
       "    }\n",
       "</style>\n",
       "<table border=\"1\" class=\"dataframe\">\n",
       "  <thead>\n",
       "    <tr style=\"text-align: right;\">\n",
       "      <th></th>\n",
       "      <th>Survey Year</th>\n",
       "      <th>Survey Month</th>\n",
       "    </tr>\n",
       "  </thead>\n",
       "  <tbody>\n",
       "    <tr>\n",
       "      <th>count</th>\n",
       "      <td>364689.000000</td>\n",
       "      <td>364689.000000</td>\n",
       "    </tr>\n",
       "    <tr>\n",
       "      <th>mean</th>\n",
       "      <td>2023.725402</td>\n",
       "      <td>6.228951</td>\n",
       "    </tr>\n",
       "    <tr>\n",
       "      <th>std</th>\n",
       "      <td>0.921019</td>\n",
       "      <td>3.590012</td>\n",
       "    </tr>\n",
       "    <tr>\n",
       "      <th>min</th>\n",
       "      <td>2022.000000</td>\n",
       "      <td>1.000000</td>\n",
       "    </tr>\n",
       "    <tr>\n",
       "      <th>25%</th>\n",
       "      <td>2023.000000</td>\n",
       "      <td>3.000000</td>\n",
       "    </tr>\n",
       "    <tr>\n",
       "      <th>50%</th>\n",
       "      <td>2024.000000</td>\n",
       "      <td>6.000000</td>\n",
       "    </tr>\n",
       "    <tr>\n",
       "      <th>75%</th>\n",
       "      <td>2024.000000</td>\n",
       "      <td>10.000000</td>\n",
       "    </tr>\n",
       "    <tr>\n",
       "      <th>max</th>\n",
       "      <td>2025.000000</td>\n",
       "      <td>12.000000</td>\n",
       "    </tr>\n",
       "  </tbody>\n",
       "</table>\n",
       "</div>"
      ],
      "text/plain": [
       "         Survey Year   Survey Month\n",
       "count  364689.000000  364689.000000\n",
       "mean     2023.725402       6.228951\n",
       "std         0.921019       3.590012\n",
       "min      2022.000000       1.000000\n",
       "25%      2023.000000       3.000000\n",
       "50%      2024.000000       6.000000\n",
       "75%      2024.000000      10.000000\n",
       "max      2025.000000      12.000000"
      ]
     },
     "execution_count": 5,
     "metadata": {},
     "output_type": "execute_result"
    }
   ],
   "source": [
    "df.describe()"
   ]
  },
  {
   "cell_type": "code",
   "execution_count": 6,
   "id": "9720cebf",
   "metadata": {},
   "outputs": [
    {
     "data": {
      "application/vnd.microsoft.datawrangler.viewer.v0+json": {
       "columns": [
        {
         "name": "index",
         "rawType": "object",
         "type": "string"
        },
        {
         "name": "Unique Key",
         "rawType": "object",
         "type": "unknown"
        },
        {
         "name": "Agency Acronym",
         "rawType": "object",
         "type": "unknown"
        },
        {
         "name": "Agency Name",
         "rawType": "object",
         "type": "unknown"
        },
        {
         "name": "Complaint Type",
         "rawType": "object",
         "type": "unknown"
        },
        {
         "name": "Descriptor",
         "rawType": "object",
         "type": "unknown"
        },
        {
         "name": "Borough",
         "rawType": "object",
         "type": "unknown"
        },
        {
         "name": "Resolution Description",
         "rawType": "object",
         "type": "unknown"
        },
        {
         "name": "Satisfaction Response",
         "rawType": "object",
         "type": "unknown"
        },
        {
         "name": "Dissatisfaction Reason",
         "rawType": "object",
         "type": "unknown"
        }
       ],
       "ref": "7f4f0eda-5338-481c-b4d5-91f168d22705",
       "rows": [
        [
         "count",
         "364689",
         "364689",
         "364595",
         "364689",
         "351714",
         "364251",
         "362933",
         "364689",
         "224612"
        ],
        [
         "unique",
         "364689",
         "18",
         "19",
         "206",
         "739",
         "5",
         "634",
         "5",
         "8"
        ],
        [
         "top",
         "16657800-00015172",
         "NYPD",
         "New York City Police Department",
         "Illegal Parking",
         "Blocked Sidewalk",
         "BROOKLYN",
         "The Department of Housing Preservation and Development conducted or attempted to conduct an inspection.  More information about inspection results can be found through HPD's website at www.nyc.gov/hpd by using HPDONLINE (enter your address on the home page) and entering your SR number under the complaint status option.",
         "Strongly Disagree",
         "The Agency did not correct the issue."
        ],
        [
         "freq",
         "1",
         "165140",
         "165108",
         "81527",
         "34457",
         "129662",
         "47295",
         "195821",
         "110718"
        ]
       ],
       "shape": {
        "columns": 9,
        "rows": 4
       }
      },
      "text/html": [
       "<div>\n",
       "<style scoped>\n",
       "    .dataframe tbody tr th:only-of-type {\n",
       "        vertical-align: middle;\n",
       "    }\n",
       "\n",
       "    .dataframe tbody tr th {\n",
       "        vertical-align: top;\n",
       "    }\n",
       "\n",
       "    .dataframe thead th {\n",
       "        text-align: right;\n",
       "    }\n",
       "</style>\n",
       "<table border=\"1\" class=\"dataframe\">\n",
       "  <thead>\n",
       "    <tr style=\"text-align: right;\">\n",
       "      <th></th>\n",
       "      <th>Unique Key</th>\n",
       "      <th>Agency Acronym</th>\n",
       "      <th>Agency Name</th>\n",
       "      <th>Complaint Type</th>\n",
       "      <th>Descriptor</th>\n",
       "      <th>Borough</th>\n",
       "      <th>Resolution Description</th>\n",
       "      <th>Satisfaction Response</th>\n",
       "      <th>Dissatisfaction Reason</th>\n",
       "    </tr>\n",
       "  </thead>\n",
       "  <tbody>\n",
       "    <tr>\n",
       "      <th>count</th>\n",
       "      <td>364689</td>\n",
       "      <td>364689</td>\n",
       "      <td>364595</td>\n",
       "      <td>364689</td>\n",
       "      <td>351714</td>\n",
       "      <td>364251</td>\n",
       "      <td>362933</td>\n",
       "      <td>364689</td>\n",
       "      <td>224612</td>\n",
       "    </tr>\n",
       "    <tr>\n",
       "      <th>unique</th>\n",
       "      <td>364689</td>\n",
       "      <td>18</td>\n",
       "      <td>19</td>\n",
       "      <td>206</td>\n",
       "      <td>739</td>\n",
       "      <td>5</td>\n",
       "      <td>634</td>\n",
       "      <td>5</td>\n",
       "      <td>8</td>\n",
       "    </tr>\n",
       "    <tr>\n",
       "      <th>top</th>\n",
       "      <td>16657800-00015172</td>\n",
       "      <td>NYPD</td>\n",
       "      <td>New York City Police Department</td>\n",
       "      <td>Illegal Parking</td>\n",
       "      <td>Blocked Sidewalk</td>\n",
       "      <td>BROOKLYN</td>\n",
       "      <td>The Department of Housing Preservation and Dev...</td>\n",
       "      <td>Strongly Disagree</td>\n",
       "      <td>The Agency did not correct the issue.</td>\n",
       "    </tr>\n",
       "    <tr>\n",
       "      <th>freq</th>\n",
       "      <td>1</td>\n",
       "      <td>165140</td>\n",
       "      <td>165108</td>\n",
       "      <td>81527</td>\n",
       "      <td>34457</td>\n",
       "      <td>129662</td>\n",
       "      <td>47295</td>\n",
       "      <td>195821</td>\n",
       "      <td>110718</td>\n",
       "    </tr>\n",
       "  </tbody>\n",
       "</table>\n",
       "</div>"
      ],
      "text/plain": [
       "               Unique Key Agency Acronym                      Agency Name  \\\n",
       "count              364689         364689                           364595   \n",
       "unique             364689             18                               19   \n",
       "top     16657800-00015172           NYPD  New York City Police Department   \n",
       "freq                    1         165140                           165108   \n",
       "\n",
       "         Complaint Type        Descriptor   Borough  \\\n",
       "count            364689            351714    364251   \n",
       "unique              206               739         5   \n",
       "top     Illegal Parking  Blocked Sidewalk  BROOKLYN   \n",
       "freq              81527             34457    129662   \n",
       "\n",
       "                                   Resolution Description  \\\n",
       "count                                              362933   \n",
       "unique                                                634   \n",
       "top     The Department of Housing Preservation and Dev...   \n",
       "freq                                                47295   \n",
       "\n",
       "       Satisfaction Response                 Dissatisfaction Reason  \n",
       "count                 364689                                 224612  \n",
       "unique                     5                                      8  \n",
       "top        Strongly Disagree  The Agency did not correct the issue.  \n",
       "freq                  195821                                 110718  "
      ]
     },
     "execution_count": 6,
     "metadata": {},
     "output_type": "execute_result"
    }
   ],
   "source": [
    "df.describe(include=\"object\")"
   ]
  },
  {
   "cell_type": "code",
   "execution_count": 7,
   "id": "26749407",
   "metadata": {},
   "outputs": [
    {
     "data": {
      "application/vnd.microsoft.datawrangler.viewer.v0+json": {
       "columns": [
        {
         "name": "index",
         "rawType": "object",
         "type": "string"
        },
        {
         "name": "0",
         "rawType": "int64",
         "type": "integer"
        }
       ],
       "ref": "299c3eef-1c73-4037-9fe4-5e527903ba1e",
       "rows": [
        [
         "Unique Key",
         "0"
        ],
        [
         "Agency Acronym",
         "0"
        ],
        [
         "Agency Name",
         "94"
        ],
        [
         "Complaint Type",
         "0"
        ],
        [
         "Descriptor",
         "12975"
        ],
        [
         "Borough",
         "438"
        ],
        [
         "Resolution Description",
         "1756"
        ],
        [
         "Survey Year",
         "0"
        ],
        [
         "Survey Month",
         "0"
        ],
        [
         "Satisfaction Response",
         "0"
        ],
        [
         "Dissatisfaction Reason",
         "140077"
        ]
       ],
       "shape": {
        "columns": 1,
        "rows": 11
       }
      },
      "text/plain": [
       "Unique Key                     0\n",
       "Agency Acronym                 0\n",
       "Agency Name                   94\n",
       "Complaint Type                 0\n",
       "Descriptor                 12975\n",
       "Borough                      438\n",
       "Resolution Description      1756\n",
       "Survey Year                    0\n",
       "Survey Month                   0\n",
       "Satisfaction Response          0\n",
       "Dissatisfaction Reason    140077\n",
       "dtype: int64"
      ]
     },
     "execution_count": 7,
     "metadata": {},
     "output_type": "execute_result"
    }
   ],
   "source": [
    "df.isna().sum()"
   ]
  },
  {
   "cell_type": "markdown",
   "id": "45d48f54",
   "metadata": {},
   "source": [
    "### Dealing with missing values\n",
    "\n",
    "Missing Agency Name values will be reconstructed using their corresponding acronyms (e.g., DOB → Department of Buildings). A dictionary (agency_dict) will be created to map each acronym to its full agency name. This mapping will then be used to fill the missing names. If an acronym does not have a matching name, a default placeholder such as 'Unknown Agency' will be assigned.\n",
    "\n",
    "Missing values in text-based fields such as Descriptor, Borough, and Resolution Description will be handled using neutral placeholder values like 'Not Provided', 'Unknown Borough', and 'No Description Provided'. This approach maintains data completeness without distorting the original meaning. These placeholders will also enable analysis of whether the absence of specific details correlates with satisfaction levels.\n",
    "\n",
    "For the Dissatisfaction Reason column, missing values will be conditionally imputed. If a respondent did not select 'Strongly Disagree' in the Satisfaction Response, the missing reason will be filled with 'Not Applicable', as no dissatisfaction was indicated. However, for cases where dissatisfaction is expressed but no reason is provided, the missing value will be retained for closer inspection or careful imputation.\n"
   ]
  },
  {
   "cell_type": "code",
   "execution_count": 8,
   "id": "a5db4496",
   "metadata": {},
   "outputs": [
    {
     "data": {
      "application/vnd.microsoft.datawrangler.viewer.v0+json": {
       "columns": [
        {
         "name": "index",
         "rawType": "object",
         "type": "string"
        },
        {
         "name": "0",
         "rawType": "int64",
         "type": "integer"
        }
       ],
       "ref": "fa9f5ec6-a14e-418a-9c5f-02248654288f",
       "rows": [
        [
         "Unique Key",
         "0"
        ],
        [
         "Agency Acronym",
         "0"
        ],
        [
         "Agency Name",
         "0"
        ],
        [
         "Complaint Type",
         "0"
        ],
        [
         "Descriptor",
         "0"
        ],
        [
         "Borough",
         "0"
        ],
        [
         "Resolution Description",
         "0"
        ],
        [
         "Survey Year",
         "0"
        ],
        [
         "Survey Month",
         "0"
        ],
        [
         "Satisfaction Response",
         "0"
        ],
        [
         "Dissatisfaction Reason",
         "344"
        ]
       ],
       "shape": {
        "columns": 1,
        "rows": 11
       }
      },
      "text/plain": [
       "Unique Key                  0\n",
       "Agency Acronym              0\n",
       "Agency Name                 0\n",
       "Complaint Type              0\n",
       "Descriptor                  0\n",
       "Borough                     0\n",
       "Resolution Description      0\n",
       "Survey Year                 0\n",
       "Survey Month                0\n",
       "Satisfaction Response       0\n",
       "Dissatisfaction Reason    344\n",
       "dtype: int64"
      ]
     },
     "execution_count": 8,
     "metadata": {},
     "output_type": "execute_result"
    }
   ],
   "source": [
    "# Filling missing 'Agency Name' using mapping from 'Agency Acronym'\n",
    "agency_map = df.dropna(subset=['Agency Name']).drop_duplicates('Agency Acronym')[['Agency Acronym', 'Agency Name']]\n",
    "agency_dict = dict(zip(agency_map['Agency Acronym'], agency_map['Agency Name']))\n",
    "df['Agency Name'] = df['Agency Acronym'].map(agency_dict).fillna('Unknown Agency')\n",
    "\n",
    "# Filling descriptor, borough, resolution with placeholders\n",
    "df['Descriptor'] = df['Descriptor'].fillna('Not Provided')\n",
    "df['Borough'] = df['Borough'].fillna('Unknown Borough')\n",
    "df['Resolution Description'] = df['Resolution Description'].fillna('No Description Provided')\n",
    "\n",
    "# Conditional fill for 'Dissatisfaction Reason'\n",
    "df['Dissatisfaction Reason'] = df.apply(\n",
    "    lambda row: 'Not Applicable' if row['Satisfaction Response'] != 'Strongly Disagree' and pd.isnull(row['Dissatisfaction Reason'])\n",
    "    else row['Dissatisfaction Reason'], axis=1\n",
    ")\n",
    "\n",
    "df.isna().sum()"
   ]
  },
  {
   "cell_type": "markdown",
   "id": "96032ac7",
   "metadata": {},
   "source": [
    "The remaining missing values in Dissatisfaction Reason reflect cases where respondents expressed dissatisfaction but did not specify a reason. These are retained to capture possible gaps in feedback or disengagement, allowing for deeper analysis without losing potentially important patterns."
   ]
  },
  {
   "cell_type": "code",
   "execution_count": 9,
   "id": "3848197d",
   "metadata": {},
   "outputs": [
    {
     "name": "stdout",
     "output_type": "stream",
     "text": [
      "Agency Name\n",
      "New York City Police Department                       125\n",
      "Department of Housing Preservation and Development    111\n",
      "Department of Sanitation                               29\n",
      "Department of Parks and Recreation                     20\n",
      "Department of Environmental Protection                 16\n",
      "Department of Buildings                                11\n",
      "Department of Finance                                  10\n",
      "Department of Consumer and Worker Protection            8\n",
      "Department of Health and Mental Hygiene                 8\n",
      "Department of Transportation                            6\n",
      "Name: count, dtype: int64\n",
      "Complaint Type\n",
      "Illegal Parking                 59\n",
      "Heat/Hot Water                  31\n",
      "Noise - Residential             24\n",
      "Plumbing                        17\n",
      "Blocked Driveway                16\n",
      "                                ..\n",
      "Encampment                       1\n",
      "Indoor Sewage                    1\n",
      "No Building Permit               1\n",
      "DOF Property - Payment Issue     1\n",
      "Street Sweeping Complaint        1\n",
      "Name: count, Length: 66, dtype: int64\n"
     ]
    }
   ],
   "source": [
    "# Filter them out\n",
    "missing_reason_with_disagree = df[\n",
    "    (df['Satisfaction Response'] == 'Strongly Disagree') &\n",
    "    (df['Dissatisfaction Reason'].isnull())\n",
    "]\n",
    "\n",
    "# Look at their distribution by agency or complaint type\n",
    "print(missing_reason_with_disagree['Agency Name'].value_counts())\n",
    "print(missing_reason_with_disagree['Complaint Type'].value_counts())"
   ]
  },
  {
   "cell_type": "code",
   "execution_count": 10,
   "id": "43dc768a",
   "metadata": {},
   "outputs": [
    {
     "data": {
      "image/png": "[encoded data removed]",
      "text/plain": [
       "<Figure size 864x360 with 1 Axes>"
      ]
     },
     "metadata": {
      "needs_background": "light"
     },
     "output_type": "display_data"
    }
   ],
   "source": [
    "# Countplot of complaint types where reason was missing despite disagreement\n",
    "plt.figure(figsize=(12,5))\n",
    "sns.countplot(data=missing_reason_with_disagree, y='Complaint Type', order=missing_reason_with_disagree['Complaint Type'].value_counts().index[:10])\n",
    "plt.title('Top Complaint Types with Missing Dissatisfaction Reason (Strongly Disagree)')\n",
    "plt.show(); "
   ]
  },
  {
   "cell_type": "markdown",
   "id": "1ddf9e3d",
   "metadata": {},
   "source": [
    "A notable portion of citizens who strongly disagreed with the service experience did not specify a dissatisfaction reason, particularly in complaints involving the New York City Police Department and the Department of Housing Preservation and Development. Common complaint types with missing reasons include Illegal Parking, Heat/Hot Water, and Noise – Residential, suggesting that users may have felt it unnecessary to elaborate or were too frustrated to complete the form. This pattern could point to user fatigue, emotional dissatisfaction, or flaws in form design that fail to prompt for reasons effectively. Before imputing these missing values, it's valuable to recognize them as indicators of possible survey design gaps or user experience issues. To proceed with modeling, one could impute the missing reasons with a neutral placeholder like \"Reason Not Provided\" while also creating a binary flag to retain their analytical value.\n"
   ]
  },
  {
   "cell_type": "code",
   "execution_count": 12,
   "id": "cad98111",
   "metadata": {},
   "outputs": [],
   "source": [
    "# Imputing the remaining missing values with \"Reason not provided\"\n",
    "df['Dissatisfaction Reason'] = df['Dissatisfaction Reason'].fillna('Reason Not Provided')\n",
    "\n",
    "# Outputting clean dataframe to clean csv file\n",
    "df.to_csv(\"cleaned.csv\", index=False)"
   ]
  }
 ],
 "metadata": {
  "kernelspec": {
   "display_name": "learn-env",
   "language": "python",
   "name": "python3"
  },
  "language_info": {
   "codemirror_mode": {
    "name": "ipython",
    "version": 3
   },
   "file_extension": ".py",
   "mimetype": "text/x-python",
   "name": "python",
   "nbconvert_exporter": "python",
   "pygments_lexer": "ipython3",
   "version": "3.8.5"
  }
 },
 "nbformat": 4,
 "nbformat_minor": 5
}
