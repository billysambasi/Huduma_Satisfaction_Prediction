{
 "cells": [
  {
   "cell_type": "markdown",
   "id": "62b8d854",
   "metadata": {},
   "source": [
    "![API Docs](http://localhost:8000/docs)\n",
    "\n",
    "![Get Options](http://localhost:8000/options)\n",
    "\n",
    "![Make Predictions POST to:](http://localhost:8000/predict)"
   ]
  },
  {
   "cell_type": "markdown",
   "id": "22fab3fd",
   "metadata": {},
   "source": [
    "Streamlit Deployment\n",
    "We successfully deployed your NYC 311 satisfaction prediction model using Streamlit, creating an interactive web application that provides an intuitive user interface for making predictions. The Streamlit app features dropdown selectors for categorical inputs (Agency Name, Complaint Type, Descriptor, Borough) and numeric inputs for year and month, allowing users to easily select from valid encoded options without needing to know the underlying numerical mappings. When users click the \"Predict Satisfaction\" button, the app loads the trained Random Forest model and label encodings, processes the input data through the same preprocessing pipeline used during training, and displays the satisfaction probability as a percentage. This approach provides a user-friendly demonstration interface that's perfect for showcasing the model's capabilities to stakeholders and end-users who prefer visual interactions over API calls.\n",
    "\n",
    "FastAPI Deployment (fastapi_app2.py)\n",
    "We developed a robust REST API using FastAPI that transforms your machine learning model into a production-ready service capable of handling programmatic requests and integrating with other applications. The API includes several key endpoints: /options returns all valid categorical values for dropdown population (with numpy scalar conversion to ensure JSON compatibility), /predict accepts POST requests with JSON payloads to generate satisfaction probability predictions, /health provides system status monitoring, and a /reload-model endpoint that enables hot-swapping of updated models without server restarts - crucial for iterative model development. The FastAPI implementation handles error management gracefully, validates input data through Pydantic models, and provides automatic interactive documentation at /docs. This architecture is designed specifically for model iteration workflows, allowing you to retrain models, save new pickle files, and reload them seamlessly while maintaining API availability, making it ideal for production environments and integration with other systems or applications."
   ]
  }
 ],
 "metadata": {
  "kernelspec": {
   "display_name": "learn-env",
   "language": "python",
   "name": "python3"
  },
  "language_info": {
   "codemirror_mode": {
    "name": "ipython",
    "version": 3
   },
   "file_extension": ".py",
   "mimetype": "text/x-python",
   "name": "python",
   "nbconvert_exporter": "python",
   "pygments_lexer": "ipython3",
   "version": "3.8.5"
  }
 },
 "nbformat": 4,
 "nbformat_minor": 5
}
